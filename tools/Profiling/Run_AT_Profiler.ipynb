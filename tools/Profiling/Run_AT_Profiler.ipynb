{
 "cells": [
  {
   "cell_type": "code",
   "execution_count": 1,
   "id": "42409a89-eda3-4569-9bde-849b3d425b0b",
   "metadata": {},
   "outputs": [
    {
     "name": "stdout",
     "output_type": "stream",
     "text": [
      "Automatic pdb calling has been turned OFF\n"
     ]
    }
   ],
   "source": [
    "import os, os.path as op\n",
    "import glob, shutil\n",
    "import argparse, sys, copy, time\n",
    "import matplotlib.pyplot as plt\n",
    "import numpy as np, pandas as pd\n",
    "import cProfile\n",
    "import pstats\n",
    "from datetime import datetime\n",
    "\n",
    "%pdb off\n",
    "%matplotlib notebook"
   ]
  },
  {
   "cell_type": "markdown",
   "id": "c1948f06-232d-4b51-88ba-9012745cb764",
   "metadata": {},
   "source": [
    "#### Setup Structure"
   ]
  },
  {
   "cell_type": "code",
   "execution_count": 2,
   "id": "17724160-ef95-4a3b-883e-cf1774c62771",
   "metadata": {},
   "outputs": [],
   "source": [
    "## you will need to edit this\n",
    "path_AT      = op.join(op.expanduser('~'), 'ARIA-tools_git')\n",
    "path_tssetup = shutil.which('ariaTSsetup.py')\n",
    "assert path_tssetup, 'Cannot find ariaTSsetup.py'"
   ]
  },
  {
   "cell_type": "code",
   "execution_count": 3,
   "id": "7fa7ba72-edb2-48e9-bc71-2d1d83df5df9",
   "metadata": {},
   "outputs": [
    {
     "name": "stdout",
     "output_type": "stream",
     "text": [
      "On branch: Profiling\n"
     ]
    }
   ],
   "source": [
    "# get the git branch\n",
    "os.chdir(path_AT)\n",
    "gbranch = !git branch --show-current\n",
    "gbranch = gbranch[0]\n",
    "print ('On branch:', gbranch)"
   ]
  },
  {
   "cell_type": "code",
   "execution_count": 4,
   "id": "fd0948b5-b460-45c7-b043-f82e270207b2",
   "metadata": {},
   "outputs": [
    {
     "name": "stdout",
     "output_type": "stream",
     "text": [
      "Working directory: /home/jovyan/Virtual_Tests_004\n"
     ]
    }
   ],
   "source": [
    "# setup directory for aria outputs and profiles\n",
    "track   = '004'\n",
    "\n",
    "path_wd = op.join(op.expanduser('~'), f'Virtual_Tests_{track}') \n",
    "os.makedirs(path_wd, exist_ok=True)\n",
    "os.chdir(path_wd)\n",
    "\n",
    "path_prods = op.join(path_wd, 'products')\n",
    "os.makedirs(path_prods, exist_ok=True)\n",
    "\n",
    "path_profs = op.join(path_wd, 'Profiles')\n",
    "os.makedirs(path_profs, exist_ok=True)\n",
    "\n",
    "print ('Working directory:', path_wd)"
   ]
  },
  {
   "cell_type": "code",
   "execution_count": 5,
   "id": "beba1adf-b4c1-4d6a-8926-3df9a913a19a",
   "metadata": {},
   "outputs": [],
   "source": [
    "bbox      = '36.75 37.225 -76.655 -75.928' # Hampton Roads\n",
    "n_threads = 4"
   ]
  },
  {
   "cell_type": "code",
   "execution_count": 6,
   "id": "c0c2ec94-556c-48b2-a2bd-24c92c681ab2",
   "metadata": {},
   "outputs": [],
   "source": [
    "def clear_directory(path):\n",
    "    \"\"\" Start from a clean directory \"\"\"\n",
    "    files = os.listdir(path)\n",
    "    # keep the DEM as it saves some time\n",
    "    files = [op.join(path, f) for f in files if not 'DEM' in f]\n",
    "    !rm -rf {' '.join(files)}\n",
    "    return"
   ]
  },
  {
   "cell_type": "markdown",
   "id": "2dc50bf9-4b13-4eb9-ac8c-cedd16fb3257",
   "metadata": {},
   "source": [
    "## Single Frame"
   ]
  },
  {
   "cell_type": "code",
   "execution_count": 7,
   "id": "cf27642a-f609-483c-a0bb-2827685c1dc7",
   "metadata": {},
   "outputs": [],
   "source": [
    "# 18 products between these dates for a single frame\n",
    "st, en, nprod = 20170201, 20170501, 18 \n",
    "# st, en, nprod = 20170101, 20180101, 80 ## longer runs\n",
    "\n",
    "path_proc = op.join(path_wd, f'1Frame_{nprod}_{gbranch}')\n",
    "path_dem  = op.join(path_proc, 'DEM', 'SRTM_3arcsec.dem')\n",
    "\n",
    "os.makedirs(path_proc, exist_ok=True)\n",
    "os.chdir(path_proc)"
   ]
  },
  {
   "cell_type": "code",
   "execution_count": 8,
   "id": "19fc72ae-ff63-4e65-8bcd-1689d3e087a0",
   "metadata": {},
   "outputs": [
    {
     "name": "stdout",
     "output_type": "stream",
     "text": [
      "Ready to download ARIA to: /home/jovyan/Virtual_Tests_004/1Frame_18_Profiling\n"
     ]
    }
   ],
   "source": [
    "# start from a fresh directory\n",
    "clear_directory(path_proc)\n",
    "clear_directory(path_prods)\n",
    "\n",
    "print ('Ready to download ARIA to:', path_proc)"
   ]
  },
  {
   "cell_type": "markdown",
   "id": "5130c508-36c1-4783-a5ef-3289d46781e1",
   "metadata": {
    "tags": []
   },
   "source": [
    "### Download"
   ]
  },
  {
   "cell_type": "code",
   "execution_count": 9,
   "id": "8d5c3103-e2b9-4ad1-a957-104f9455c07e",
   "metadata": {
    "tags": []
   },
   "outputs": [
    {
     "name": "stdout",
     "output_type": "stream",
     "text": [
      "ariaDownload.py -t 004 --st 20170201 --en 20170501  --b \"36.75 37.225 -76.655 -75.928\" -w /home/jovyan/Virtual_Tests_004/products -nt 4\n",
      "ARIA-tools Version: 1.1.0\n",
      "Wrote -- 18 -- products to: /home/jovyan/Virtual_Tests_004/products\n"
     ]
    }
   ],
   "source": [
    "# download the physical products; \n",
    "# really this should count towards the time vs for virtual profiling, but it's pretty fast and makes comparison overly difficult\n",
    "cmd = f'ariaDownload.py -t {track} --st {st} --en {en}  --b \"{bbox}\" -w {path_prods} -nt 4'\n",
    "print (cmd)\n",
    "!{cmd}"
   ]
  },
  {
   "cell_type": "code",
   "execution_count": 10,
   "id": "e6cc4518-2ac3-46eb-9556-52062544ef97",
   "metadata": {},
   "outputs": [
    {
     "name": "stdout",
     "output_type": "stream",
     "text": [
      "ariaDownload.py -t 004 --st 20170201 --en 20170501  --b \"36.75 37.225 -76.655 -75.928\" -w /home/jovyan/Virtual_Tests_004/products -nt 4 -o url\n",
      "ARIA-tools Version: 1.1.0\n",
      "Wrote -- 18 -- product urls to: /home/jovyan/Virtual_Tests_004/products/track004_bbox-77W36S-75E38N_0.txt\n"
     ]
    }
   ],
   "source": [
    "# download the text file with the virtual urls\n",
    "cmd = f'ariaDownload.py -t 004 --st {st} --en {en}  --b \"{bbox}\" -w {path_prods} -nt 4 -o url'\n",
    "print (cmd)\n",
    "!{cmd}"
   ]
  },
  {
   "cell_type": "code",
   "execution_count": 11,
   "id": "f6580545-4c26-4d33-b810-cdd83920a79a",
   "metadata": {},
   "outputs": [
    {
     "name": "stdout",
     "output_type": "stream",
     "text": [
      "ariaExtract.py -f \"/home/jovyan/Virtual_Tests_004/products/*.nc\" --dem Download -nt 4\n",
      "ARIA-tools Version: 1.1.0\n",
      "*****************************************************************\n",
      "*** Extract Product Function ***\n",
      "*****************************************************************\n",
      "Multi-core version\n",
      "All (18) GUNW products meet spatial bbox criteria.\n",
      "Group GUNW products into spatiotemporally continuous interferograms.\n",
      "All (18) interferograms are spatially continuous.\n",
      "No layers specified; only creating bounding box shapes\n",
      "Thread count specified for gdal multiprocessing = 4\n",
      "Applied cutline to produce 3 arc-sec SRTM DEM: ./DEM/SRTM_3arcsec.dem\n"
     ]
    }
   ],
   "source": [
    "cmd = f'ariaExtract.py -f \"{path_prods}/*.nc\" --dem Download -nt 4'\n",
    "print (cmd)\n",
    "!{cmd}"
   ]
  },
  {
   "cell_type": "markdown",
   "id": "e9a9ab93-df2b-4ba4-8357-9de55ad42e32",
   "metadata": {
    "jp-MarkdownHeadingCollapsed": true,
    "tags": []
   },
   "source": [
    "### tsSetup1 - Physical"
   ]
  },
  {
   "cell_type": "code",
   "execution_count": 12,
   "id": "eca29681-4a5b-4d89-aac2-36e719effaab",
   "metadata": {},
   "outputs": [],
   "source": [
    "n     = 2 # run it twice; stats are stable\n",
    "\n",
    "# setup the file name of the profile\n",
    "today = datetime.today().strftime('%m%d') \n",
    "bname = f'PHYS_{nprod}_{today}'"
   ]
  },
  {
   "cell_type": "code",
   "execution_count": null,
   "id": "6d3d4160-1669-4e47-85ec-0b66fa02da3d",
   "metadata": {
    "tags": []
   },
   "outputs": [
    {
     "name": "stdout",
     "output_type": "stream",
     "text": [
      "python -m cProfile -o /home/jovyan/Virtual_Tests_004/Profiles/PHYS_18_0417_0.profile -s time /home/jovyan/.local/envs/ARIA/bin/ariaTSsetup.py -f \"/home/jovyan/Virtual_Tests_004/products/S1*.nc\" --dem /home/jovyan/Virtual_Tests_004/1Frame_18_Profiling/DEM/SRTM_3arcsec.dem --layers \"all\" --bperp -nt 4 \n",
      "ARIA-tools Version: 1.1.0\n",
      "*****************************************************************\n",
      "*** Time-series Preparation Function ***\n",
      "*****************************************************************\n",
      "Multi-core version\n",
      "All (18) GUNW products meet spatial bbox criteria.\n",
      "Group GUNW products into spatiotemporally continuous interferograms.\n",
      "All (18) interferograms are spatially continuous.\n",
      "Thread count specified for gdal multiprocessing = 4\n",
      "Download/cropping DEM\n",
      "\u001b[33;21mWARNING: The DEM you specified already exists in ./DEM, using the existing one...\u001b[0m\n",
      "\n",
      "Extracting unwrapped phase, coherence, and connected components for each interferogram pair\n",
      "Generating: unwrappedPhase - [==>                      6%                       ] 20170215_20170203    0s /     0sNETCDF:\"/home/jovyan/Virtual_Tests_004/products/S1-GUNW-A-R-004-tops-20170215_20170203-230614-37655N_35779N-PP-8f88-v2_0_2.nc\":/science/grids/data/unwrappedPhase is GDAL compatible\n",
      "NETCDF:\"/home/jovyan/Virtual_Tests_004/products/S1-GUNW-A-R-004-tops-20170215_20170203-230614-37655N_35779N-PP-8f88-v2_0_2.nc\":/science/grids/data/connectedComponents is GDAL compatible\n",
      "Generating: unwrappedPhase - [=====>                  11%                       ] 20170227_20170203    3s /    28sNETCDF:\"/home/jovyan/Virtual_Tests_004/products/S1-GUNW-A-R-004-tops-20170227_20170203-230614-37655N_35778N-PP-cc96-v2_0_2.nc\":/science/grids/data/unwrappedPhase is GDAL compatible\n",
      "NETCDF:\"/home/jovyan/Virtual_Tests_004/products/S1-GUNW-A-R-004-tops-20170227_20170203-230614-37655N_35778N-PP-cc96-v2_0_2.nc\":/science/grids/data/connectedComponents is GDAL compatible\n",
      "Generating: unwrappedPhase - [=======>                17%                       ] 20170227_20170215    6s /    33sNETCDF:\"/home/jovyan/Virtual_Tests_004/products/S1-GUNW-A-R-004-tops-20170227_20170215-230614-37655N_35778N-PP-f19a-v2_0_2.nc\":/science/grids/data/unwrappedPhase is GDAL compatible\n",
      "NETCDF:\"/home/jovyan/Virtual_Tests_004/products/S1-GUNW-A-R-004-tops-20170227_20170215-230614-37655N_35778N-PP-f19a-v2_0_2.nc\":/science/grids/data/connectedComponents is GDAL compatible\n",
      "Generating: unwrappedPhase - [==========>             22%                       ] 20170311_20170203   10s /    37sNETCDF:\"/home/jovyan/Virtual_Tests_004/products/S1-GUNW-A-R-004-tops-20170311_20170203-230615-37654N_35778N-PP-b708-v2_0_4.nc\":/science/grids/data/unwrappedPhase is GDAL compatible\n",
      "NETCDF:\"/home/jovyan/Virtual_Tests_004/products/S1-GUNW-A-R-004-tops-20170311_20170203-230615-37654N_35778N-PP-b708-v2_0_4.nc\":/science/grids/data/connectedComponents is GDAL compatible\n",
      "Generating: unwrappedPhase - [=============>          28%                       ] 20170311_20170215   14s /    36sNETCDF:\"/home/jovyan/Virtual_Tests_004/products/S1-GUNW-A-R-004-tops-20170311_20170215-230615-37654N_35778N-PP-ed24-v2_0_2.nc\":/science/grids/data/unwrappedPhase is GDAL compatible\n",
      "NETCDF:\"/home/jovyan/Virtual_Tests_004/products/S1-GUNW-A-R-004-tops-20170311_20170215-230615-37654N_35778N-PP-ed24-v2_0_2.nc\":/science/grids/data/connectedComponents is GDAL compatible\n",
      "Generating: unwrappedPhase - [===============>        33%                       ] 20170311_20170227   17s /    36sNETCDF:\"/home/jovyan/Virtual_Tests_004/products/S1-GUNW-A-R-004-tops-20170311_20170227-230615-37654N_35778N-PP-b097-v2_0_2.nc\":/science/grids/data/unwrappedPhase is GDAL compatible\n",
      "NETCDF:\"/home/jovyan/Virtual_Tests_004/products/S1-GUNW-A-R-004-tops-20170311_20170227-230615-37654N_35778N-PP-b097-v2_0_2.nc\":/science/grids/data/connectedComponents is GDAL compatible\n",
      "Generating: unwrappedPhase - [===================>    39%                       ] 20170323_20170215   21s /    33sNETCDF:\"/home/jovyan/Virtual_Tests_004/products/S1-GUNW-A-R-004-tops-20170323_20170215-230615-37654N_35777N-PP-5910-v2_0_4.nc\":/science/grids/data/unwrappedPhase is GDAL compatible\n",
      "NETCDF:\"/home/jovyan/Virtual_Tests_004/products/S1-GUNW-A-R-004-tops-20170323_20170215-230615-37654N_35777N-PP-5910-v2_0_4.nc\":/science/grids/data/connectedComponents is GDAL compatible\n",
      "Generating: unwrappedPhase - [=====================>  44%                       ] 20170323_20170227   25s /    31sNETCDF:\"/home/jovyan/Virtual_Tests_004/products/S1-GUNW-A-R-004-tops-20170323_20170227-230615-37654N_35777N-PP-22dc-v2_0_2.nc\":/science/grids/data/unwrappedPhase is GDAL compatible\n",
      "NETCDF:\"/home/jovyan/Virtual_Tests_004/products/S1-GUNW-A-R-004-tops-20170323_20170227-230615-37654N_35777N-PP-22dc-v2_0_2.nc\":/science/grids/data/connectedComponents is GDAL compatible\n",
      "Generating: unwrappedPhase - [======================= 50%                       ] 20170323_20170311   28s /    28sNETCDF:\"/home/jovyan/Virtual_Tests_004/products/S1-GUNW-A-R-004-tops-20170323_20170311-230615-37654N_35777N-PP-ba53-v2_0_2.nc\":/science/grids/data/unwrappedPhase is GDAL compatible\n",
      "NETCDF:\"/home/jovyan/Virtual_Tests_004/products/S1-GUNW-A-R-004-tops-20170323_20170311-230615-37654N_35777N-PP-ba53-v2_0_2.nc\":/science/grids/data/connectedComponents is GDAL compatible\n",
      "Generating: unwrappedPhase - [======================= 56%                       ] 20170404_20170227   32s /    25sNETCDF:\"/home/jovyan/Virtual_Tests_004/products/S1-GUNW-A-R-004-tops-20170404_20170227-230615-37655N_35779N-PP-b70f-v2_0_4.nc\":/science/grids/data/unwrappedPhase is GDAL compatible\n",
      "NETCDF:\"/home/jovyan/Virtual_Tests_004/products/S1-GUNW-A-R-004-tops-20170404_20170227-230615-37655N_35779N-PP-b70f-v2_0_4.nc\":/science/grids/data/connectedComponents is GDAL compatible\n",
      "Generating: unwrappedPhase - [======================= 61% =>                    ] 20170404_20170311   35s /    22sNETCDF:\"/home/jovyan/Virtual_Tests_004/products/S1-GUNW-A-R-004-tops-20170404_20170311-230615-37655N_35779N-PP-f4c0-v2_0_2.nc\":/science/grids/data/unwrappedPhase is GDAL compatible\n",
      "NETCDF:\"/home/jovyan/Virtual_Tests_004/products/S1-GUNW-A-R-004-tops-20170404_20170311-230615-37655N_35779N-PP-f4c0-v2_0_2.nc\":/science/grids/data/connectedComponents is GDAL compatible\n",
      "Generating: unwrappedPhase - [======================= 67% =====>                ] 20170404_20170323   39s /    19sNETCDF:\"/home/jovyan/Virtual_Tests_004/products/S1-GUNW-A-R-004-tops-20170404_20170323-230615-37655N_35779N-PP-2ad6-v2_0_2.nc\":/science/grids/data/unwrappedPhase is GDAL compatible\n",
      "NETCDF:\"/home/jovyan/Virtual_Tests_004/products/S1-GUNW-A-R-004-tops-20170404_20170323-230615-37655N_35779N-PP-2ad6-v2_0_2.nc\":/science/grids/data/connectedComponents is GDAL compatible\n",
      "Generating: unwrappedPhase - [======================= 72% =======>              ] 20170416_20170311   42s /    16sNETCDF:\"/home/jovyan/Virtual_Tests_004/products/S1-GUNW-A-R-004-tops-20170416_20170311-230616-37654N_35778N-PP-1787-v2_0_4.nc\":/science/grids/data/unwrappedPhase is GDAL compatible\n",
      "NETCDF:\"/home/jovyan/Virtual_Tests_004/products/S1-GUNW-A-R-004-tops-20170416_20170311-230616-37654N_35778N-PP-1787-v2_0_4.nc\":/science/grids/data/connectedComponents is GDAL compatible\n",
      "Generating: unwrappedPhase - [======================= 78% ==========>           ] 20170416_20170323   46s /    13sNETCDF:\"/home/jovyan/Virtual_Tests_004/products/S1-GUNW-A-R-004-tops-20170416_20170323-230616-37654N_35778N-PP-b3c1-v2_0_2.nc\":/science/grids/data/unwrappedPhase is GDAL compatible\n",
      "NETCDF:\"/home/jovyan/Virtual_Tests_004/products/S1-GUNW-A-R-004-tops-20170416_20170323-230616-37654N_35778N-PP-b3c1-v2_0_2.nc\":/science/grids/data/connectedComponents is GDAL compatible\n",
      "Generating: unwrappedPhase - [======================= 83% =============>        ] 20170416_20170404   49s /    10sNETCDF:\"/home/jovyan/Virtual_Tests_004/products/S1-GUNW-A-R-004-tops-20170416_20170404-230616-37654N_35778N-PP-3b66-v2_0_2.nc\":/science/grids/data/unwrappedPhase is GDAL compatible\n",
      "NETCDF:\"/home/jovyan/Virtual_Tests_004/products/S1-GUNW-A-R-004-tops-20170416_20170404-230616-37654N_35778N-PP-3b66-v2_0_2.nc\":/science/grids/data/connectedComponents is GDAL compatible\n",
      "Generating: unwrappedPhase - [======================= 89% ===============>      ] 20170428_20170323   53s /     6sNETCDF:\"/home/jovyan/Virtual_Tests_004/products/S1-GUNW-A-R-004-tops-20170428_20170323-230616-37655N_35778N-PP-edd2-v2_0_4.nc\":/science/grids/data/unwrappedPhase is GDAL compatible\n",
      "NETCDF:\"/home/jovyan/Virtual_Tests_004/products/S1-GUNW-A-R-004-tops-20170428_20170323-230616-37655N_35778N-PP-edd2-v2_0_4.nc\":/science/grids/data/connectedComponents is GDAL compatible\n",
      "Generating: unwrappedPhase - [======================= 94% ==================>   ] 20170428_20170404   56s /     3sNETCDF:\"/home/jovyan/Virtual_Tests_004/products/S1-GUNW-A-R-004-tops-20170428_20170404-230616-37655N_35778N-PP-8292-v2_0_2.nc\":/science/grids/data/unwrappedPhase is GDAL compatible\n",
      "NETCDF:\"/home/jovyan/Virtual_Tests_004/products/S1-GUNW-A-R-004-tops-20170428_20170404-230616-37655N_35778N-PP-8292-v2_0_2.nc\":/science/grids/data/connectedComponents is GDAL compatible\n",
      "Generating: unwrappedPhase - [==================================================] 20170428_20170416NETCDF:\"/home/jovyan/Virtual_Tests_004/products/S1-GUNW-A-R-004-tops-20170428_20170416-230616-37655N_35778N-PP-76ce-v2_0_1.nc\":/science/grids/data/unwrappedPhase is GDAL compatible\n",
      "NETCDF:\"/home/jovyan/Virtual_Tests_004/products/S1-GUNW-A-R-004-tops-20170428_20170416-230616-37655N_35778N-PP-76ce-v2_0_1.nc\":/science/grids/data/connectedComponents is GDAL compatible\n",
      " \n",
      "Generating: coherence - [==================================================] 20170428_20170416    0s /     0s \n",
      "\n",
      "Extracting single incidence angle, look angle and azimuth angle files valid over common interferometric grid\n",
      "Generating: incidenceAngle - [==================================================] 20170215_20170203"
     ]
    }
   ],
   "source": [
    "for nn in range(n):\n",
    "    dst = op.join(path_profs, f'{bname}_{nn}.profile')\n",
    "                \n",
    "    cmd = f'python -m cProfile -o {dst} '\\\n",
    "          f'-s time {path_tssetup} -f \"{path_prods}/S1*.nc\" '\\\n",
    "          f'--dem {path_dem} --layers \"all\" --bperp -nt {n_threads} '\n",
    "    \n",
    "    print (cmd)\n",
    "    !{cmd}\n",
    "    print ('\\n-------Finished:', dst)\n",
    "    clear_directory(path_proc)"
   ]
  },
  {
   "cell_type": "markdown",
   "id": "0706391a-dc7e-4d28-9edb-79be77d63787",
   "metadata": {
    "jp-MarkdownHeadingCollapsed": true,
    "tags": []
   },
   "source": [
    "### tsSetup1 - Virtual"
   ]
  },
  {
   "cell_type": "code",
   "execution_count": null,
   "id": "3c86f74c-e6cc-4478-bbbc-b5ec4eee5b54",
   "metadata": {},
   "outputs": [],
   "source": [
    "n     = 2 # run it n times\n",
    "\n",
    "# setup the file name of the profile\n",
    "today = datetime.today().strftime('%m%d') \n",
    "bname = f'VIRT_{nprod}_{gbranch}_{today}'"
   ]
  },
  {
   "cell_type": "code",
   "execution_count": null,
   "id": "31bc9903-571e-426a-87d6-eb11461cb899",
   "metadata": {},
   "outputs": [],
   "source": [
    "for nn in range(n):\n",
    "    dst = op.join(path_profs, f'{bname}_{nn}.profile')\n",
    "                \n",
    "    cmd = f'python -m cProfile -o {dst} '\\\n",
    "          f'-s time {path_tssetup} -f \"{path_prods}/track004_bbox-77W36S-75E38N_0.txt\" '\\\n",
    "          f'--dem {path_dem} --layers \"all\" --bperp -nt {n_threads} '\n",
    "    print (cmd)\n",
    "    !{cmd}\n",
    "    print ('\\n-------Finished:', dst)\n",
    "    clear_directory(path_proc)"
   ]
  },
  {
   "cell_type": "markdown",
   "id": "598ee3dc-09f9-42e7-9287-c13fd4d3a8ed",
   "metadata": {},
   "source": [
    "## Multiple Frames"
   ]
  },
  {
   "cell_type": "code",
   "execution_count": null,
   "id": "94055894-1d3d-40cf-86d4-1dc6cd41a701",
   "metadata": {},
   "outputs": [],
   "source": [
    "# 21 products between these dates for multiple frames\n",
    "st_tr, en_tr, nprod_tr = 20190101, 20190220, 21\n",
    "# st_tr, en_tr, nprod_tr  = 20170101, 20170315, 83 \n",
    "\n",
    "path_proc = op.join(path_wd, f'Track_{nprod_tr}_{gbranch}')\n",
    "os.makedirs(path_proc, exist_ok=True)\n",
    "os.chdir(path_proc)"
   ]
  },
  {
   "cell_type": "code",
   "execution_count": null,
   "id": "65559ff6-15cf-4728-8ff9-0bd38add0260",
   "metadata": {},
   "outputs": [],
   "source": [
    "# start from a fresh directory\n",
    "clear_directory(path_res)\n",
    "\n",
    "print ('Ready to download ARIA to:', path_proc)"
   ]
  },
  {
   "cell_type": "markdown",
   "id": "fff0b15f-971d-42f1-a984-d0eac67bd950",
   "metadata": {},
   "source": [
    "### Download"
   ]
  },
  {
   "cell_type": "code",
   "execution_count": null,
   "id": "0d7f03fc-5676-49d7-beb1-afe2ccfb71c0",
   "metadata": {},
   "outputs": [],
   "source": [
    "# download the physical products; \n",
    "# really this should count towards the time vs for virtual profiling, but it's pretty fast and makes comparison overly difficult\n",
    "cmd = f'ariaDownload.py -t {track} --st {st_tr} --en {en_tr} -nt 4'\n",
    "print (cmd)\n",
    "!{cmd}"
   ]
  },
  {
   "cell_type": "code",
   "execution_count": null,
   "id": "13d5dfb4-8928-4aaa-b0c5-9223dddf4034",
   "metadata": {},
   "outputs": [],
   "source": [
    "# download the text file with the virtual urls\n",
    "cmd = f'ariaDownload.py -t 004 --st {st_tr} --en {en_tr} -nt 4 -o url'\n",
    "print (cmd)\n",
    "!{cmd}"
   ]
  },
  {
   "cell_type": "code",
   "execution_count": null,
   "id": "08cfd7e7-b0b3-4201-8d29-d3a74f372deb",
   "metadata": {},
   "outputs": [],
   "source": [
    "cmd = f'ariaExtract.py -f \"{path_proc}/products/*.nc\" --dem Download -nt 4'\n",
    "print (cmd)\n",
    "!{cmd}"
   ]
  },
  {
   "cell_type": "markdown",
   "id": "8dc3a4b6-db3e-4a13-9862-26452a82d3d0",
   "metadata": {},
   "source": [
    "### tsSetup+ - Physical"
   ]
  },
  {
   "cell_type": "code",
   "execution_count": null,
   "id": "4d0c1b12-4b80-4907-a974-0a1d2e785a8d",
   "metadata": {},
   "outputs": [],
   "source": [
    "n     = 2 # run it twice; stats are stable\n",
    "\n",
    "# setup the file name of the profile\n",
    "today = datetime.today().strftime('%m%d') \n",
    "bname = f'PHYS_{nprod_tr}_{gbranch}_{today}'"
   ]
  },
  {
   "cell_type": "code",
   "execution_count": null,
   "id": "1592d9fa-324c-4501-8c62-02dbc3869321",
   "metadata": {},
   "outputs": [],
   "source": [
    "for nn in range(n):\n",
    "    dst = op.join(path_profs, f'{bname}{nn}.profile')\n",
    "                \n",
    "    cmd = f'python -m cProfile -o {dst} '\\\n",
    "          f'-s time {path_tssetup} -f \"{path_proc}/products/S1*.nc\" '\\\n",
    "          f'--dem {path_dem} --layers \"all\" --bperp -nt {n_threads} '\n",
    "    print (cmd)\n",
    "    !{cmd}\n",
    "    print ('\\n-------Finished:', dst)\n",
    "    clear_directory(path_proc)"
   ]
  },
  {
   "cell_type": "markdown",
   "id": "a7fb4dde-e033-49dc-a702-61d3ed02b34c",
   "metadata": {},
   "source": [
    "### tsSetup+ - Virtual"
   ]
  },
  {
   "cell_type": "code",
   "execution_count": null,
   "id": "e0460942-e8ce-4439-94ed-0f67910fd850",
   "metadata": {},
   "outputs": [],
   "source": [
    "n     = 5 # run it nx\n",
    "\n",
    "# setup the file name of the profile\n",
    "today = datetime.today().strftime('%m%d') \n",
    "bname = f'VIRT_{nprod_tr}_{gbranch}_{today}'"
   ]
  },
  {
   "cell_type": "code",
   "execution_count": null,
   "id": "5d4fcd59-7476-49ee-b45e-d1574a2fa815",
   "metadata": {},
   "outputs": [],
   "source": [
    "for nn in range(n):\n",
    "    dst = op.join(path_profs, f'{bname}{nn}.profile')\n",
    "                \n",
    "    cmd = f'python -m cProfile -o {dst} '\\\n",
    "          f'-s time {path_tssetup} -f \"{path_proc}/products/track004_0.txt\" '\\\n",
    "          f'--dem {path_dem} --layers \"all\" --bperp -nt {n_threads} '\n",
    "    print (cmd)\n",
    "    !{cmd}\n",
    "    print ('\\n-------Finished:', dst)\n",
    "    clean_dir(path_proc)"
   ]
  }
 ],
 "metadata": {
  "kernelspec": {
   "display_name": "Python 3 (ipykernel)",
   "language": "python",
   "name": "conda-env-.local-ARIA-py"
  },
  "language_info": {
   "codemirror_mode": {
    "name": "ipython",
    "version": 3
   },
   "file_extension": ".py",
   "mimetype": "text/x-python",
   "name": "python",
   "nbconvert_exporter": "python",
   "pygments_lexer": "ipython3",
   "version": "3.10.4"
  }
 },
 "nbformat": 4,
 "nbformat_minor": 5
}
