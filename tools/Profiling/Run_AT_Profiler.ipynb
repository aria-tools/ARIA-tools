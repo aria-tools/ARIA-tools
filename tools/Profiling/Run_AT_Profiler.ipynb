{
 "cells": [
  {
   "cell_type": "code",
   "execution_count": 1,
   "id": "42409a89-eda3-4569-9bde-849b3d425b0b",
   "metadata": {},
   "outputs": [
    {
     "name": "stdout",
     "output_type": "stream",
     "text": [
      "Automatic pdb calling has been turned OFF\n"
     ]
    }
   ],
   "source": [
    "import os, os.path as op\n",
    "import glob\n",
    "import argparse, sys, copy, time\n",
    "import matplotlib.pyplot as plt\n",
    "import numpy as np, pandas as pd\n",
    "# import seaborn as sns\n",
    "import cProfile\n",
    "import pstats\n",
    "from datetime import datetime\n",
    "\n",
    "%pdb off\n",
    "%matplotlib notebook"
   ]
  },
  {
   "cell_type": "markdown",
   "id": "c1948f06-232d-4b51-88ba-9012745cb764",
   "metadata": {},
   "source": [
    "#### Setup Structure"
   ]
  },
  {
   "cell_type": "code",
   "execution_count": 4,
   "id": "17724160-ef95-4a3b-883e-cf1774c62771",
   "metadata": {},
   "outputs": [],
   "source": [
    "## you will need to edit this\n",
    "path_AT  = op.join(op.expanduser('~'), 'ARIA-tools_git')"
   ]
  },
  {
   "cell_type": "code",
   "execution_count": 5,
   "id": "7fa7ba72-edb2-48e9-bc71-2d1d83df5df9",
   "metadata": {},
   "outputs": [
    {
     "name": "stdout",
     "output_type": "stream",
     "text": [
      "On branch: Profiling\n"
     ]
    }
   ],
   "source": [
    "# get the git branch\n",
    "os.chdir(path_AT)\n",
    "gbranch = !git branch --show-current\n",
    "gbranch = gbranch[0]\n",
    "print ('On branch:', gbranch)"
   ]
  },
  {
   "cell_type": "code",
   "execution_count": 6,
   "id": "fd0948b5-b460-45c7-b043-f82e270207b2",
   "metadata": {},
   "outputs": [
    {
     "name": "stdout",
     "output_type": "stream",
     "text": [
      "Working directory: /home/jovyan/Virtual_Tests_004\n"
     ]
    }
   ],
   "source": [
    "# setup directory for aria outputs and profiles\n",
    "track   = '004'\n",
    "\n",
    "path_wd = op.join(op.expanduser('~'), f'Virtual_Tests_{track}') \n",
    "os.makedirs(path_wd, exist_ok=True)\n",
    "os.chdir(path_wd)\n",
    "\n",
    "path_profs = op.join(path_wd, 'Profiles')\n",
    "os.makedirs(path_wd, exist_ok=True)\n",
    "\n",
    "print ('Working directory:', path_wd)"
   ]
  },
  {
   "cell_type": "code",
   "execution_count": 7,
   "id": "beba1adf-b4c1-4d6a-8926-3df9a913a19a",
   "metadata": {},
   "outputs": [],
   "source": [
    "path_dem  = op.join(path_wd, 'DEM', 'SRTM_3arcsec.dem')\n",
    "bbox      = '36.75 37.225 -76.655 -75.928' # Hampton Roads\n",
    "n_threads = 4"
   ]
  },
  {
   "cell_type": "code",
   "execution_count": 8,
   "id": "c0c2ec94-556c-48b2-a2bd-24c92c681ab2",
   "metadata": {},
   "outputs": [],
   "source": [
    "def clear_directory(path):\n",
    "    \"\"\" Start from a clean directory \"\"\"\n",
    "    files = os.listdir(path)\n",
    "    files = [op.join(path, f) for f in files]\n",
    "    # keep the DEM as it saves some time\n",
    "    if 'DEM' in files:\n",
    "        files.remove('DEM')\n",
    "        \n",
    "    !rm -rf {' '.join(files)}\n",
    "    return"
   ]
  },
  {
   "cell_type": "markdown",
   "id": "2dc50bf9-4b13-4eb9-ac8c-cedd16fb3257",
   "metadata": {},
   "source": [
    "## Single Frame"
   ]
  },
  {
   "cell_type": "code",
   "execution_count": 9,
   "id": "cf27642a-f609-483c-a0bb-2827685c1dc7",
   "metadata": {},
   "outputs": [],
   "source": [
    "# 18 products between these dates for a single frame\n",
    "st, en, nprod = 20170201, 20170501, 18 \n",
    "# st, en, nprod = 20170101, 20180101, 80 ## longer runs\n",
    "\n",
    "\n",
    "path_proc = op.join(path_wd, f'1Frame_{nprod}_{gbranch}')\n",
    "os.makedirs(path_proc, exist_ok=True)\n",
    "os.chdir(path_proc)"
   ]
  },
  {
   "cell_type": "code",
   "execution_count": 13,
   "id": "19fc72ae-ff63-4e65-8bcd-1689d3e087a0",
   "metadata": {},
   "outputs": [
    {
     "name": "stdout",
     "output_type": "stream",
     "text": [
      "Ready to download ARIA to: /home/jovyan/Virtual_Tests_004/1Frame_18_Profiling\n"
     ]
    }
   ],
   "source": [
    "# start from a fresh directory\n",
    "clear_directory(path_proc)\n",
    "\n",
    "print ('Ready to download ARIA to:', path_proc)"
   ]
  },
  {
   "cell_type": "markdown",
   "id": "5130c508-36c1-4783-a5ef-3289d46781e1",
   "metadata": {
    "tags": []
   },
   "source": [
    "### Download"
   ]
  },
  {
   "cell_type": "code",
   "execution_count": 16,
   "id": "db9a7315-7bee-4620-adbd-b557dc3ac311",
   "metadata": {},
   "outputs": [],
   "source": [
    "# clean out products so everything is right later on\n",
    "!rm -rf {path_proc}/products"
   ]
  },
  {
   "cell_type": "code",
   "execution_count": 17,
   "id": "8d5c3103-e2b9-4ad1-a957-104f9455c07e",
   "metadata": {
    "tags": []
   },
   "outputs": [
    {
     "name": "stdout",
     "output_type": "stream",
     "text": [
      "ariaDownload.py -t 004 --st 20170201 --en 20170501  --b \"36.75 37.225 -76.655 -75.928\" -nt 4\n",
      "ARIA-tools Version: 1.1.0\n",
      "Wrote -- 18 -- products to: /home/jovyan/Virtual_Tests_004/1Frame_18_Profiling/products\n"
     ]
    }
   ],
   "source": [
    "# download the physical products; \n",
    "# really this should count towards the time vs for virtual profiling, but it's pretty fast and makes comparison overly difficult\n",
    "cmd = f'ariaDownload.py -t {track} --st {st} --en {en}  --b \"{bbox}\" -nt 4'\n",
    "print (cmd)\n",
    "!{cmd}"
   ]
  },
  {
   "cell_type": "code",
   "execution_count": 22,
   "id": "8480c6dc-9883-4b87-94e5-2f949bddbe9e",
   "metadata": {},
   "outputs": [
    {
     "name": "stdout",
     "output_type": "stream",
     "text": [
      "/home/jovyan/.local/envs/ARIA/bin/ariaDownload.py\n"
     ]
    }
   ],
   "source": [
    "!which ariaDownload.py -h"
   ]
  },
  {
   "cell_type": "code",
   "execution_count": 20,
   "id": "e6cc4518-2ac3-46eb-9556-52062544ef97",
   "metadata": {},
   "outputs": [
    {
     "name": "stdout",
     "output_type": "stream",
     "text": [
      "ariaDownload.py -t 004 --st 20170201 --en 20170501  --b \"36.75 37.225 -76.655 -75.928\" -nt 4 -o url\n",
      "Traceback (most recent call last):\n",
      "  File \"/home/jovyan/.local/envs/ARIA/bin/ariaDownload.py\", line 4, in <module>\n",
      "    __import__('pkg_resources').run_script('ARIAtools==1.1.0', 'ariaDownload.py')\n",
      "  File \"/home/jovyan/.local/envs/ARIA/lib/python3.10/site-packages/pkg_resources/__init__.py\", line 672, in run_script\n",
      "    self.require(requires)[0].run_script(script_name, ns)\n",
      "  File \"/home/jovyan/.local/envs/ARIA/lib/python3.10/site-packages/pkg_resources/__init__.py\", line 1460, in run_script\n",
      "    raise ResolutionError(\n",
      "pkg_resources.ResolutionError: Script 'scripts/ariaDownload.py' not found in metadata at '/home/jovyan/.local/envs/ARIA/lib/python3.10/site-packages/ARIAtools-1.1.0.dist-info'\n"
     ]
    }
   ],
   "source": [
    "# download the text file with the virtual urls\n",
    "cmd = f'ariaDownload.py -t 004 --st {st} --en {en}  --b \"{bbox}\" -nt 4 -o url'\n",
    "print (cmd)\n",
    "!{cmd}"
   ]
  },
  {
   "cell_type": "code",
   "execution_count": null,
   "id": "f6580545-4c26-4d33-b810-cdd83920a79a",
   "metadata": {},
   "outputs": [],
   "source": [
    "cmd = f'ariaExtract.py -f \"{path_proc}/products/*.nc\" --dem Download -nt 4'\n",
    "print (cmd)\n",
    "!{cmd}"
   ]
  },
  {
   "cell_type": "markdown",
   "id": "e9a9ab93-df2b-4ba4-8357-9de55ad42e32",
   "metadata": {
    "tags": []
   },
   "source": [
    "### tsSetup1 - Physical"
   ]
  },
  {
   "cell_type": "code",
   "execution_count": null,
   "id": "eca29681-4a5b-4d89-aac2-36e719effaab",
   "metadata": {},
   "outputs": [],
   "source": [
    "n     = 2 # run it twice; stats are stable\n",
    "\n",
    "# setup the file name of the profile\n",
    "today = datetime.today().strftime('%m%d') \n",
    "bname = f'PHYS_{nprod}_{today}'"
   ]
  },
  {
   "cell_type": "code",
   "execution_count": null,
   "id": "6d3d4160-1669-4e47-85ec-0b66fa02da3d",
   "metadata": {},
   "outputs": [],
   "source": [
    "for nn in range(n):\n",
    "    dst = op.join(path_profs, f'{bname}{nn}.profile')\n",
    "                \n",
    "    cmd = f'python -m cProfile -o {dst} '\\\n",
    "          f'-s time {path_AT}/bin/ariaTSsetup.py -f \"{path_proc}/products/S1*.nc\" '\\\n",
    "          f'--dem {path_dem} --layers \"all\" --bperp -nt {n_threads} '\n",
    "    print (cmd)\n",
    "    !{cmd}\n",
    "    print ('\\n-------Finished:', dst)\n",
    "    clean_dir(path_proc)"
   ]
  },
  {
   "cell_type": "markdown",
   "id": "0706391a-dc7e-4d28-9edb-79be77d63787",
   "metadata": {
    "tags": []
   },
   "source": [
    "### tsSetup1 - Virtual"
   ]
  },
  {
   "cell_type": "code",
   "execution_count": null,
   "id": "3c86f74c-e6cc-4478-bbbc-b5ec4eee5b54",
   "metadata": {},
   "outputs": [],
   "source": [
    "n     = 5 # run it nx\n",
    "\n",
    "# setup the file name of the profile\n",
    "today = datetime.today().strftime('%m%d') \n",
    "bname = f'VIRT_{nprod}_{today}'"
   ]
  },
  {
   "cell_type": "code",
   "execution_count": null,
   "id": "31bc9903-571e-426a-87d6-eb11461cb899",
   "metadata": {},
   "outputs": [],
   "source": [
    "for nn in range(n):\n",
    "    dst = op.join(path_profs, f'{bname}{nn}.profile')\n",
    "                \n",
    "    cmd = f'python -m cProfile -o {dst} '\\\n",
    "          f'-s time {path_AT}/bin/ariaTSsetup.py -f \"{path_proc}/products/track004_bbox-77W36S-75E38N_0.txt\" '\\\n",
    "          f'--dem {path_dem} --layers \"all\" --bperp -nt {n_threads} '\n",
    "    print (cmd)\n",
    "    !{cmd}\n",
    "    print ('\\n-------Finished:', dst)\n",
    "    clean_dir(path_proc)"
   ]
  },
  {
   "cell_type": "markdown",
   "id": "598ee3dc-09f9-42e7-9287-c13fd4d3a8ed",
   "metadata": {},
   "source": [
    "## Multiple Frames"
   ]
  },
  {
   "cell_type": "code",
   "execution_count": null,
   "id": "94055894-1d3d-40cf-86d4-1dc6cd41a701",
   "metadata": {},
   "outputs": [],
   "source": [
    "# 21 products between these dates for multiple frames\n",
    "st_tr, en_tr, nprod_tr = 20190101, 20190220, 21\n",
    "# st_tr, en_tr, nprod_tr  = 20170101, 20170315, 83 \n",
    "\n",
    "path_proc = op.join(path_wd, f'Track_{nprod_tr}_{gbranch}')\n",
    "os.makedirs(path_proc, exist_ok=True)\n",
    "os.chdir(path_proc)"
   ]
  },
  {
   "cell_type": "code",
   "execution_count": null,
   "id": "65559ff6-15cf-4728-8ff9-0bd38add0260",
   "metadata": {},
   "outputs": [],
   "source": [
    "# start from a fresh directory\n",
    "clear_directory(path_res)\n",
    "\n",
    "print ('Ready to download ARIA to:', path_proc)"
   ]
  },
  {
   "cell_type": "markdown",
   "id": "fff0b15f-971d-42f1-a984-d0eac67bd950",
   "metadata": {},
   "source": [
    "### Download"
   ]
  },
  {
   "cell_type": "code",
   "execution_count": null,
   "id": "0d7f03fc-5676-49d7-beb1-afe2ccfb71c0",
   "metadata": {},
   "outputs": [],
   "source": [
    "# download the physical products; \n",
    "# really this should count towards the time vs for virtual profiling, but it's pretty fast and makes comparison overly difficult\n",
    "cmd = f'ariaDownload.py -t {track} --st {st_tr} --en {en_tr} -nt 4'\n",
    "print (cmd)\n",
    "!{cmd}"
   ]
  },
  {
   "cell_type": "code",
   "execution_count": null,
   "id": "13d5dfb4-8928-4aaa-b0c5-9223dddf4034",
   "metadata": {},
   "outputs": [],
   "source": [
    "# download the text file with the virtual urls\n",
    "cmd = f'ariaDownload.py -t 004 --st {st_tr} --en {en_tr} -nt 4 -o url'\n",
    "print (cmd)\n",
    "!{cmd}"
   ]
  },
  {
   "cell_type": "code",
   "execution_count": null,
   "id": "08cfd7e7-b0b3-4201-8d29-d3a74f372deb",
   "metadata": {},
   "outputs": [],
   "source": [
    "cmd = f'ariaExtract.py -f \"{path_proc}/products/*.nc\" --dem Download -nt 4'\n",
    "print (cmd)\n",
    "!{cmd}"
   ]
  },
  {
   "cell_type": "markdown",
   "id": "8dc3a4b6-db3e-4a13-9862-26452a82d3d0",
   "metadata": {},
   "source": [
    "### tsSetup+ - Physical"
   ]
  },
  {
   "cell_type": "code",
   "execution_count": null,
   "id": "4d0c1b12-4b80-4907-a974-0a1d2e785a8d",
   "metadata": {},
   "outputs": [],
   "source": [
    "n     = 2 # run it twice; stats are stable\n",
    "\n",
    "# setup the file name of the profile\n",
    "today = datetime.today().strftime('%m%d') \n",
    "bname = f'PHYS_{nprod_tr}_{today}'"
   ]
  },
  {
   "cell_type": "code",
   "execution_count": null,
   "id": "1592d9fa-324c-4501-8c62-02dbc3869321",
   "metadata": {},
   "outputs": [],
   "source": [
    "for nn in range(n):\n",
    "    dst = op.join(path_profs, f'{bname}{nn}.profile')\n",
    "                \n",
    "    cmd = f'python -m cProfile -o {dst} '\\\n",
    "          f'-s time {path_AT}/bin/ariaTSsetup.py -f \"{path_proc}/products/S1*.nc\" '\\\n",
    "          f'--dem {path_dem} --layers \"all\" --bperp -nt {n_threads} '\n",
    "    print (cmd)\n",
    "    !{cmd}\n",
    "    print ('\\n-------Finished:', dst)\n",
    "    clean_dir(path_proc)"
   ]
  },
  {
   "cell_type": "markdown",
   "id": "a7fb4dde-e033-49dc-a702-61d3ed02b34c",
   "metadata": {},
   "source": [
    "### tsSetup+ - Virtual"
   ]
  },
  {
   "cell_type": "code",
   "execution_count": null,
   "id": "e0460942-e8ce-4439-94ed-0f67910fd850",
   "metadata": {},
   "outputs": [],
   "source": [
    "n     = 5 # run it nx\n",
    "\n",
    "# setup the file name of the profile\n",
    "today = datetime.today().strftime('%m%d') \n",
    "bname = f'VIRT_{nprod}_{today}'"
   ]
  },
  {
   "cell_type": "code",
   "execution_count": null,
   "id": "5d4fcd59-7476-49ee-b45e-d1574a2fa815",
   "metadata": {},
   "outputs": [],
   "source": [
    "for nn in range(n):\n",
    "    dst = op.join(path_profs, f'{bname}{nn}.profile')\n",
    "                \n",
    "    cmd = f'python -m cProfile -o {dst} '\\\n",
    "          f'-s time {path_AT}/bin/ariaTSsetup.py -f \"{path_proc}/products/track004_0.txt\" '\\\n",
    "          f'--dem {path_dem} --layers \"all\" --bperp -nt {n_threads} '\n",
    "    print (cmd)\n",
    "    !{cmd}\n",
    "    print ('\\n-------Finished:', dst)\n",
    "    clean_dir(path_proc)"
   ]
  }
 ],
 "metadata": {
  "kernelspec": {
   "display_name": "ARIA",
   "language": "python",
   "name": "conda-env-.local-ARIA-py"
  },
  "language_info": {
   "codemirror_mode": {
    "name": "ipython",
    "version": 3
   },
   "file_extension": ".py",
   "mimetype": "text/x-python",
   "name": "python",
   "nbconvert_exporter": "python",
   "pygments_lexer": "ipython3",
   "version": "3.10.4"
  }
 },
 "nbformat": 4,
 "nbformat_minor": 5
}
