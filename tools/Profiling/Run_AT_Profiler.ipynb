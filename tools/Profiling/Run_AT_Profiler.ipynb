{
 "cells": [
  {
   "cell_type": "code",
   "execution_count": 2,
   "id": "42409a89-eda3-4569-9bde-849b3d425b0b",
   "metadata": {},
   "outputs": [
    {
     "name": "stdout",
     "output_type": "stream",
     "text": [
      "Automatic pdb calling has been turned OFF\n"
     ]
    }
   ],
   "source": [
    "import os, os.path as op\n",
    "import glob\n",
    "import argparse, sys, copy, time\n",
    "import matplotlib.pyplot as plt\n",
    "import numpy as np, pandas as pd\n",
    "# import seaborn as sns\n",
    "import cProfile\n",
    "import pstats\n",
    "from datetime import datetime\n",
    "\n",
    "%pdb off\n",
    "%matplotlib notebook"
   ]
  },
  {
   "cell_type": "code",
   "execution_count": 3,
   "id": "a68bf341-2124-4e74-acfc-3ea8732dc872",
   "metadata": {},
   "outputs": [
    {
     "data": {
      "text/plain": [
       "'/opt/conda/bin:/opt/conda/condabin:/opt/conda/bin:/usr/local/sbin:/usr/local/bin:/usr/sbin:/usr/bin:/sbin:/bin'"
      ]
     },
     "execution_count": 3,
     "metadata": {},
     "output_type": "execute_result"
    }
   ],
   "source": [
    "os.environ.get('PATH')"
   ]
  },
  {
   "cell_type": "markdown",
   "id": "c1948f06-232d-4b51-88ba-9012745cb764",
   "metadata": {},
   "source": [
    "#### Setup Structure"
   ]
  },
  {
   "cell_type": "code",
   "execution_count": 3,
   "id": "17724160-ef95-4a3b-883e-cf1774c62771",
   "metadata": {},
   "outputs": [],
   "source": [
    "## you will need to edit this\n",
    "path_AT  = op.join(op.expanduser('~'), 'ARIA-tools_git')"
   ]
  },
  {
   "cell_type": "code",
   "execution_count": 4,
   "id": "7fa7ba72-edb2-48e9-bc71-2d1d83df5df9",
   "metadata": {},
   "outputs": [
    {
     "name": "stdout",
     "output_type": "stream",
     "text": [
      "On branch: Profiling\n"
     ]
    }
   ],
   "source": [
    "# get the git branch\n",
    "os.chdir(path_AT)\n",
    "gbranch = !git branch --show-current\n",
    "gbranch = gbranch[0]\n",
    "print ('On branch:', gbranch)"
   ]
  },
  {
   "cell_type": "code",
   "execution_count": 5,
   "id": "fd0948b5-b460-45c7-b043-f82e270207b2",
   "metadata": {},
   "outputs": [
    {
     "name": "stdout",
     "output_type": "stream",
     "text": [
      "Working directory: /home/jovyan/Virtual_Tests_004\n"
     ]
    }
   ],
   "source": [
    "# setup directory for aria outputs and profiles\n",
    "track   = '004'\n",
    "\n",
    "path_wd = op.join(op.expanduser('~'), f'Virtual_Tests_{track}') \n",
    "os.makedirs(path_wd, exist_ok=True)\n",
    "os.chdir(path_wd)\n",
    "\n",
    "path_profs = op.join(path_wd, 'Profiles')\n",
    "os.makedirs(path_wd, exist_ok=True)\n",
    "\n",
    "print ('Working directory:', path_wd)"
   ]
  },
  {
   "cell_type": "code",
   "execution_count": 6,
   "id": "beba1adf-b4c1-4d6a-8926-3df9a913a19a",
   "metadata": {},
   "outputs": [],
   "source": [
    "path_dem  = op.join(path_wd, 'DEM', 'SRTM_3arcsec.dem')\n",
    "bbox      = '36.75 37.225 -76.655 -75.928' # Hampton Roads\n",
    "n_threads = 4"
   ]
  },
  {
   "cell_type": "code",
   "execution_count": 7,
   "id": "c0c2ec94-556c-48b2-a2bd-24c92c681ab2",
   "metadata": {},
   "outputs": [],
   "source": [
    "def clear_directory(path):\n",
    "    \"\"\" Start from a clean directory \"\"\"\n",
    "    files = os.listdir(path)\n",
    "    files = [op.join(path, f) for f in files]\n",
    "    # keep the DEM as it saves some time\n",
    "    if 'DEM' in files:\n",
    "        files.remove('DEM')\n",
    "        \n",
    "    !rm -rf {' '.join(files)}\n",
    "    return"
   ]
  },
  {
   "cell_type": "markdown",
   "id": "2dc50bf9-4b13-4eb9-ac8c-cedd16fb3257",
   "metadata": {},
   "source": [
    "## Single Frame"
   ]
  },
  {
   "cell_type": "code",
   "execution_count": 8,
   "id": "cf27642a-f609-483c-a0bb-2827685c1dc7",
   "metadata": {},
   "outputs": [],
   "source": [
    "# 18 products between these dates for a single frame\n",
    "st, en, nprod = 20170201, 20170501, 18 \n",
    "# st, en, nprod = 20170101, 20180101, 80 ## longer runs\n",
    "\n",
    "\n",
    "path_proc = op.join(path_wd, f'1Frame_{nprod}_{gbranch}')\n",
    "os.makedirs(path_proc, exist_ok=True)\n",
    "os.chdir(path_proc)"
   ]
  },
  {
   "cell_type": "code",
   "execution_count": 10,
   "id": "19fc72ae-ff63-4e65-8bcd-1689d3e087a0",
   "metadata": {},
   "outputs": [
    {
     "name": "stdout",
     "output_type": "stream",
     "text": [
      "Ready to download ARIA to: /home/jovyan/Virtual_Tests_004/1Frame_18_Profiling\n"
     ]
    }
   ],
   "source": [
    "# start from a fresh directory\n",
    "clear_directory(path_res)\n",
    "\n",
    "print ('Ready to download ARIA to:', path_res)"
   ]
  },
  {
   "cell_type": "markdown",
   "id": "5130c508-36c1-4783-a5ef-3289d46781e1",
   "metadata": {
    "tags": []
   },
   "source": [
    "### Download"
   ]
  },
  {
   "cell_type": "code",
   "execution_count": 11,
   "id": "8d5c3103-e2b9-4ad1-a957-104f9455c07e",
   "metadata": {
    "collapsed": true,
    "jupyter": {
     "outputs_hidden": true
    },
    "tags": []
   },
   "outputs": [
    {
     "name": "stdout",
     "output_type": "stream",
     "text": [
      "ariaDownload.py -t 004 --st 20170201 --en 20170501  --b \"36.75 37.225 -76.655 -75.928\" -nt 4\n",
      "https://api.daac.asf.alaska.edu/services/search/param?asfplatform=Sentinel-1%20Interferogram%20(BETA)&processingLevel=GUNW_STD&output=JSON&relativeOrbit=004&bbox=-76.655,36.75,-75.928,37.225\n",
      "Attempting to obtaining user/pass from .netrc\n",
      "Using  4 threads for parallel downloads\n",
      " > attempting to download https://urs.earthdata.nasa.gov/profile\n",
      " > attempting to download https://urs.earthdata.nasa.gov/profile\n",
      " > attempting to download https://urs.earthdata.nasa.gov/profile\n",
      " > Reusing previous cookie jar.\n",
      " > Reusing previous cookie jar.\n",
      " > Reusing previous cookie jar.\n",
      " > 'Temporary' Redirect download @ Remote archive:\n",
      " > https://dlz0dhr6g6ukw.cloudfront.net/S1-GUNW-A-R-004-tops-20170323_20170227-230615-37654N_35777N-PP-22dc-v2_0_2.nc?userid=bbuzz&Expires=1650125133&Signature=th8IADKDwPGKnTV6PKofba8e35YHDDoz9mGVa~zVjxgyz6Nlvoc2rnWSfSOfHcO7N6bhm4VXx6pfWLXT4~5SeoYez5taqQ~Q8NRrzXFQyhUv5iaIlwspkWZKN2wzvcA7TMwPr2ChLyLRYmUngTImK7xibAUBuum8xnW20ERz7PA_&Key-Pair-Id=APKAINVNJF4BDB5SS5QQ\n",
      "(1/4) Downloading https://grfn.asf.alaska.edu/door/download/S1-GUNW-A-R-004-tops-20170323_20170227-230615-37654N_35777N-PP-22dc-v2_0_2.nc\n",
      " > 'Temporary' Redirect download @ Remote archive:\n",
      " > https://dlz0dhr6g6ukw.cloudfront.net/S1-GUNW-A-R-004-tops-20170428_20170323-230616-37655N_35778N-PP-edd2-v2_0_4.nc?userid=bbuzz&Expires=1650125133&Signature=XzpTjeuCS301M0oQ~s56F3nRLa~LuGy4~bNg9uil98X82iPEZvsLxHE3fwxVktkPlWNbRly2FXznyvbFGXPzvI6dytlSnbxjGj83uUm6X~ZBau7PaAy4QQ8pHZySoktfddm8BKOC0UkRb01eHrMtlJqrHhLgG3uPAsXFEyVA8R8_&Key-Pair-Id=APKAINVNJF4BDB5SS5QQ\n",
      "(1/5) Downloading https://grfn.asf.alaska.edu/door/download/S1-GUNW-A-R-004-tops-20170428_20170323-230616-37655N_35778N-PP-edd2-v2_0_4.nc\n",
      " > Downloaded 60420238 of 60420238 bytes (100.00%)\n",
      "Downloaded 60420238b in 1.07secs, Average Rate: 53.94MB/sec\n",
      " > Downloaded 63109613 of 63109613 bytes (100.00%)\n",
      "Downloaded 63109613b in 1.15secs, Average Rate: 52.42MB/sec\n",
      " > 'Temporary' Redirect download @ Remote archive:\n",
      " > https://dlz0dhr6g6ukw.cloudfront.net/S1-GUNW-A-R-004-tops-20170428_20170404-230616-37655N_35778N-PP-8292-v2_0_2.nc?userid=bbuzz&Expires=1650125134&Signature=nn7CfpPg2-tY0Sys9Nj9FJMdbN92yNWbIh88Rs3dapniJyyZjH4AZZiMMV9yIaM3sYxZLI0n~rk9u4s1TUASCGHYu8DfNT6-4BoRozlAZZPSrYUToLl3ha9wabRkWsZ9T8am5EbEQdtkc7ahnPVbv3bckYGFgvrSZzGfKucCgQ8_&Key-Pair-Id=APKAINVNJF4BDB5SS5QQ\n",
      "(2/5) Downloading https://grfn.asf.alaska.edu/door/download/S1-GUNW-A-R-004-tops-20170428_20170404-230616-37655N_35778N-PP-8292-v2_0_2.nc\n",
      " > 'Temporary' Redirect download @ Remote archive:\n",
      " > https://dlz0dhr6g6ukw.cloudfront.net/S1-GUNW-A-R-004-tops-20170323_20170311-230615-37654N_35777N-PP-ba53-v2_0_2.nc?userid=bbuzz&Expires=1650125134&Signature=GNuLxNbb4GgGoDSc85nY-fJle-jERD2ASOvTLvChmJbEDJh1twHvowGf3QPprxn5lJGsxyvnGzAaJj2OQv24IeEDgGzgTv1VjfJYWvs5UyRpsBt7MADmur1tKKFjnDlDmWL405dXs1kzWw20ztF0Czj8C0X3t~MXXm6GKkvvnBI_&Key-Pair-Id=APKAINVNJF4BDB5SS5QQ\n",
      "(2/4) Downloading https://grfn.asf.alaska.edu/door/download/S1-GUNW-A-R-004-tops-20170323_20170311-230615-37654N_35777N-PP-ba53-v2_0_2.nc\n",
      " > 'Temporary' Redirect download @ Remote archive:\n",
      " > https://dlz0dhr6g6ukw.cloudfront.net/S1-GUNW-A-R-004-tops-20170416_20170404-230616-37654N_35778N-PP-3b66-v2_0_2.nc?userid=bbuzz&Expires=1650125134&Signature=5i3nB00XCRMUyKAb2yZMl7J7lRmZ64-sACLEU3Mj2pT9qlv1c~iNEqLa4U9UQAYAl9QkVM60xGJnkG9eZ8s4E3GEV77TELVlI6tbJNLjAoc1LfGlKvL2izZgquogFTPEcM5thUiu0MCq2toDYeIrZLVgJjmnksNbQ2wbK4V~bcw_&Key-Pair-Id=APKAINVNJF4BDB5SS5QQ > Downloaded 23707648 of 68698588 bytes (34.51%)\n",
      "(1/5) Downloading https://grfn.asf.alaska.edu/door/download/S1-GUNW-A-R-004-tops-20170416_20170404-230616-37654N_35778N-PP-3b66-v2_0_2.nc\n",
      " > Downloaded 63867660 of 63867660 bytes (100.00%)\n",
      "Downloaded 63867660b in 1.00secs, Average Rate: 60.91MB/sec\n",
      " > Downloaded 49184768 of 67645427 bytes (72.71%))\n",
      "Downloaded 68698588b in 1.21secs, Average Rate: 54.29MB/sec\n",
      " > Downloaded 67645427 of 67645427 bytes (100.00%)\n",
      "Downloaded 67645427b in 2.35secs, Average Rate: 27.46MB/sec\n",
      " > attempting to download https://urs.earthdata.nasa.gov/profile\n",
      " > 'Temporary' Redirect download @ Remote archive:\n",
      " > https://dlz0dhr6g6ukw.cloudfront.net/S1-GUNW-A-R-004-tops-20170311_20170203-230615-37654N_35778N-PP-b708-v2_0_4.nc?userid=bbuzz&Expires=1650125135&Signature=G0m09-qJYB180SODE8AYqF~Rt6v7zrAf8GhL3Ruv0qa8h8eXzwQW6Udl-75SL-aWpMolFjWPqbWUqClmgu9VR62J4uJFP~gzbL~sSVsw1mttrl0nmuC0-KEjmJ4M3qwH4d97~KK2gSgSJTY1SS1JGv~ktbCvbQM5iL2axUUnk5w_&Key-Pair-Id=APKAINVNJF4BDB5SS5QQ\n",
      "(3/4) Downloading https://grfn.asf.alaska.edu/door/download/S1-GUNW-A-R-004-tops-20170311_20170203-230615-37654N_35778N-PP-b708-v2_0_4.nc\n",
      " > 'Temporary' Redirect download @ Remote archive:\n",
      " > https://dlz0dhr6g6ukw.cloudfront.net/S1-GUNW-A-R-004-tops-20170428_20170416-230616-37655N_35778N-PP-76ce-v2_0_1.nc?userid=bbuzz&Expires=1650125135&Signature=u94BtuN~3~tLxANkox1An5vH0rzQ0c2slpBdj3lshN-3adxm2PORLDT1P2onjin2830N0tw-WHlUB9xC3GTuvnE4KKAwocCWcmM-9BlidUVsY1V7qaEnYTSCifw3XbRSjoiUzOmO~1ApPbzQnAIRyVXXX9~Qr15pb7-affOMBdA_&Key-Pair-Id=APKAINVNJF4BDB5SS5QQ\n",
      "(3/5) Downloading https://grfn.asf.alaska.edu/door/download/S1-GUNW-A-R-004-tops-20170428_20170416-230616-37655N_35778N-PP-76ce-v2_0_1.nc\n",
      " > Reusing previous cookie jar.606 bytes (36.54%)\n",
      " > 'Temporary' Redirect download @ Remote archive:\n",
      " > https://dlz0dhr6g6ukw.cloudfront.net/S1-GUNW-A-R-004-tops-20170404_20170227-230615-37655N_35779N-PP-b70f-v2_0_4.nc?userid=bbuzz&Expires=1650125135&Signature=LgzmV3IwXwlKXoEg17UWwjMPmkLlRS5mAExoSljBt-V-MICsx6IGVyhW4TTJ-q6B6XEec3IMhJRbUwWTxxnt5AoLEXXXSWARlNRDDI94xhucuRhgcVIdDp2QNOspjvpC9sMxGkkvE6OWaptycBLz8a0xiQ0erdmZdd3tfmtR0Hw_&Key-Pair-Id=APKAINVNJF4BDB5SS5QQ\n",
      "(2/5) Downloading https://grfn.asf.alaska.edu/door/download/S1-GUNW-A-R-004-tops-20170404_20170227-230615-37655N_35779N-PP-b70f-v2_0_4.nc\n",
      " > Downloaded 34988032 of 58101657 bytes (60.22%))\n",
      "Downloaded 57019606b in 1.08secs, Average Rate: 50.14MB/sec\n",
      " > Downloaded 47448064 of 68239654 bytes (69.53%)\r"
     ]
    },
    {
     "name": "stderr",
     "output_type": "stream",
     "text": [
      "IOPub data rate exceeded.\n",
      "The Jupyter server will temporarily stop sending output\n",
      "to the client in order to avoid crashing it.\n",
      "To change this limit, set the config variable\n",
      "`--ServerApp.iopub_data_rate_limit`.\n",
      "\n",
      "Current values:\n",
      "ServerApp.iopub_data_rate_limit=1000000.0 (bytes/sec)\n",
      "ServerApp.rate_limit_window=3.0 (secs)\n",
      "\n"
     ]
    },
    {
     "name": "stdout",
     "output_type": "stream",
     "text": [
      " > 'Temporary' Redirect download @ Remote archive:\n",
      " > https://dlz0dhr6g6ukw.cloudfront.net/S1-GUNW-A-R-004-tops-20170227_20170203-230614-37655N_35778N-PP-cc96-v2_0_2.nc?userid=bbuzz&Expires=1650125136&Signature=wbHTEiioFKxlto4IFfCFgygXT8fa4HjKwZkSe~YaTEy-Mqh-HWnp~jTpeOa1~IDO28dcLw9NbcL2bc134wcEjxG1v5wu09Ydl2Zu0LP77KGK~F4uGcM~YSCVLe49sja5JvPXptDIWE3o3wIO7TB5t3VzUe7DYUW6~M~wGtLJMCw_&Key-Pair-Id=APKAINVNJF4BDB5SS5QQ\n",
      "(2/4) Downloading https://grfn.asf.alaska.edu/door/download/S1-GUNW-A-R-004-tops-20170227_20170203-230614-37655N_35778N-PP-cc96-v2_0_2.nc\n",
      " > Downloaded 37240832 of 58200507 bytes (63.99%))\n",
      " > Downloaded 63184896 of 66539088 bytes (94.96%)\r"
     ]
    },
    {
     "name": "stderr",
     "output_type": "stream",
     "text": [
      "IOPub data rate exceeded.\n",
      "The Jupyter server will temporarily stop sending output\n",
      "to the client in order to avoid crashing it.\n",
      "To change this limit, set the config variable\n",
      "`--ServerApp.iopub_data_rate_limit`.\n",
      "\n",
      "Current values:\n",
      "ServerApp.iopub_data_rate_limit=1000000.0 (bytes/sec)\n",
      "ServerApp.rate_limit_window=3.0 (secs)\n",
      "\n"
     ]
    },
    {
     "name": "stdout",
     "output_type": "stream",
     "text": [
      " > 'Temporary' Redirect download @ Remote archive:\n",
      " > https://dlz0dhr6g6ukw.cloudfront.net/S1-GUNW-A-R-004-tops-20170416_20170323-230616-37654N_35778N-PP-b3c1-v2_0_2.nc?userid=bbuzz&Expires=1650125137&Signature=nJAHS89zCWAazRJ9v6Xr5hM1h-UasoNv~Z2YkQBVLK7JogNRB4Q2YMCGgGNhtlqrQGR4ET8sYr6zpswNCedt584OvhmX0HN9Y8oMMdqW7lqhEqjTUN0UgHP4onQD5wOPLKd6Q8vJ6RMi9w2~0NIwRWjWN3FPiyuDmW6muDmj~9E_&Key-Pair-Id=APKAINVNJF4BDB5SS5QQ\n",
      "(5/5) Downloading https://grfn.asf.alaska.edu/door/download/S1-GUNW-A-R-004-tops-20170416_20170323-230616-37654N_35778N-PP-b3c1-v2_0_2.nc\n",
      " > 'Temporary' Redirect download @ Remote archive:\n",
      " > Downloaded 44802048 of 66118621 bytes (67.76%)-R-004-tops-20170227_20170215-230614-37655N_35778N-PP-f19a-v2_0_2.nc?userid=bbuzz&Expires=1650125137&Signature=GCMpeBZpX~jcoAAWNb7Sm77zRUQQIMQw12~I3UPAH2Lu-FeB5uE6T9G-x-9m0vQcOwd1qL1Z5eXcfi1pfu3RfOeNnMHXB8gqYcQMU80XzXqn~qj3640r85oUiBG29kqIUgESBkfmt823kagnyY1Qu1IUPTHzKRxVsmasodqZGj4_&Key-Pair-Id=APKAINVNJF4BDB5SS5QQ > Downloaded 15818752 of 67583136 bytes (23.41%)\n",
      "(3/4) Downloading https://grfn.asf.alaska.edu/door/download/S1-GUNW-A-R-004-tops-20170227_20170215-230614-37655N_35778N-PP-f19a-v2_0_2.nc\n",
      " > Downloaded 66118621 of 66118621 bytes (100.00%)\n",
      "Downloaded 66118621b in 1.18secs, Average Rate: 53.55MB/sec\n",
      " > Downloaded 67583136 of 67583136 bytes (100.00%)\n",
      "Downloaded 67583136b in 1.19secs, Average Rate: 54.25MB/sec\n",
      " > Downloaded 64923609 of 64923609 bytes (100.00%)\n",
      "Downloaded 64923609b in 1.07secs, Average Rate: 57.74MB/sec\n",
      " > 'Temporary' Redirect download @ Remote archive:\n",
      " > https://dlz0dhr6g6ukw.cloudfront.net/S1-GUNW-A-R-004-tops-20170323_20170215-230615-37654N_35777N-PP-5910-v2_0_4.nc?userid=bbuzz&Expires=1650125138&Signature=q-Fvl5eeAaCtz7NShaPz74xidVZbT8QZlkW~5w5qAPyQ3lOnB27vIow8TG4jJMRm1GI-iXSwIUS2rDDfFBZrQUU6uuH9BeiW2AwWRAEFi~9KlqHe1SZxxMXK2c3TwxQEKaQxC4voBr9c6kfe6lMFCpYfhZ6h1cxDVNrVG6BmfTY_&Key-Pair-Id=APKAINVNJF4BDB5SS5QQ\n",
      "(5/5) Downloading https://grfn.asf.alaska.edu/door/download/S1-GUNW-A-R-004-tops-20170323_20170215-230615-37654N_35777N-PP-5910-v2_0_4.nc\n",
      " > 'Temporary' Redirect download @ Remote archive:\n",
      " > https://dlz0dhr6g6ukw.cloudfront.net/S1-GUNW-A-R-004-tops-20170215_20170203-230614-37655N_35779N-PP-8f88-v2_0_2.nc?userid=bbuzz&Expires=1650125138&Signature=eQ9mmRSibfFVnZ6rUiGuwhZij-mEbLvCtu7hSTxhtJj-mo-4SxrVWXGP2vdjk0QJVIrZG4nc7r1J2fF~K~thFZQNRQLvgXW-3wFpwOSlZjNlXA5xWYcXZ44uPvtZHycV9sb~oZhKPrD3JgdiW-1vPhu3YiIrDmqu04VvR5-ciF0_&Key-Pair-Id=APKAINVNJF4BDB5SS5QQ\n",
      "(4/4) Downloading https://grfn.asf.alaska.edu/door/download/S1-GUNW-A-R-004-tops-20170215_20170203-230614-37655N_35779N-PP-8f88-v2_0_2.nc\n",
      " > Downloaded 58750725 of 58750725 bytes (100.00%)\n",
      "Downloaded 58750725b in 1.00secs, Average Rate: 56.03MB/sec\n",
      " > Downloaded 64611043 of 64611043 bytes (100.00%)\n",
      "Downloaded 64611043b in 1.18secs, Average Rate: 52.23MB/sec\n",
      "Successes: 18 files, 1147557273.0 bytes\n",
      "\n",
      "\t- https://grfn.asf.alaska.edu/door/download/S1-GUNW-A-R-004-tops-20170428_20170323-230616-37655N_35778N-PP-edd2-v2_0_4.nc 57.62\n",
      "\n",
      "\t- https://grfn.asf.alaska.edu/door/download/S1-GUNW-A-R-004-tops-20170428_20170404-230616-37655N_35778N-PP-8292-v2_0_2.nc 65.52\n",
      "\n",
      "\t- https://grfn.asf.alaska.edu/door/download/S1-GUNW-A-R-004-tops-20170428_20170416-230616-37655N_35778N-PP-76ce-v2_0_1.nc 65.08\n",
      "\n",
      "\t- https://grfn.asf.alaska.edu/door/download/S1-GUNW-A-R-004-tops-20170416_20170311-230616-37654N_35778N-PP-1787-v2_0_4.nc 55.50\n",
      "\n",
      "\t- https://grfn.asf.alaska.edu/door/download/S1-GUNW-A-R-004-tops-20170416_20170323-230616-37654N_35778N-PP-b3c1-v2_0_2.nc 64.45\n",
      "\n",
      "\t- https://grfn.asf.alaska.edu/door/download/S1-GUNW-A-R-004-tops-20170416_20170404-230616-37654N_35778N-PP-3b66-v2_0_2.nc 64.51\n",
      "\n",
      "\t- https://grfn.asf.alaska.edu/door/download/S1-GUNW-A-R-004-tops-20170404_20170227-230615-37655N_35779N-PP-b70f-v2_0_4.nc 55.41\n",
      "\n",
      "\t- https://grfn.asf.alaska.edu/door/download/S1-GUNW-A-R-004-tops-20170404_20170311-230615-37655N_35779N-PP-f4c0-v2_0_2.nc 62.68\n",
      "\n",
      "\t- https://grfn.asf.alaska.edu/door/download/S1-GUNW-A-R-004-tops-20170404_20170323-230615-37655N_35779N-PP-2ad6-v2_0_2.nc 63.06\n",
      "\n",
      "\t- https://grfn.asf.alaska.edu/door/download/S1-GUNW-A-R-004-tops-20170323_20170215-230615-37654N_35777N-PP-5910-v2_0_4.nc 56.03\n",
      "\n",
      "\t- https://grfn.asf.alaska.edu/door/download/S1-GUNW-A-R-004-tops-20170323_20170227-230615-37654N_35777N-PP-22dc-v2_0_2.nc 60.19\n",
      "\n",
      "\t- https://grfn.asf.alaska.edu/door/download/S1-GUNW-A-R-004-tops-20170323_20170311-230615-37654N_35777N-PP-ba53-v2_0_2.nc 60.91\n",
      "\n",
      "\t- https://grfn.asf.alaska.edu/door/download/S1-GUNW-A-R-004-tops-20170311_20170203-230615-37654N_35778N-PP-b708-v2_0_4.nc 54.38\n",
      "\n",
      "\t- https://grfn.asf.alaska.edu/door/download/S1-GUNW-A-R-004-tops-20170311_20170215-230615-37654N_35778N-PP-ed24-v2_0_2.nc 63.46\n",
      "\n",
      "\t- https://grfn.asf.alaska.edu/door/download/S1-GUNW-A-R-004-tops-20170311_20170227-230615-37654N_35778N-PP-b097-v2_0_2.nc 60.74\n",
      "\n",
      "\t- https://grfn.asf.alaska.edu/door/download/S1-GUNW-A-R-004-tops-20170227_20170203-230614-37655N_35778N-PP-cc96-v2_0_2.nc 61.34\n",
      "\n",
      "\t- https://grfn.asf.alaska.edu/door/download/S1-GUNW-A-R-004-tops-20170227_20170215-230614-37655N_35778N-PP-f19a-v2_0_2.nc 61.92\n",
      "\n",
      "\t- https://grfn.asf.alaska.edu/door/download/S1-GUNW-A-R-004-tops-20170215_20170203-230614-37655N_35779N-PP-8f88-v2_0_2.nc 61.62\n",
      "Average Rate: 52.00 MB/sec\n",
      "All files have been downloaded successfully\n"
     ]
    }
   ],
   "source": [
    "# download the physical products; \n",
    "# really this should count towards the time vs for virtual profiling, but it's pretty fast and makes comparison overly difficult\n",
    "cmd = f'ariaDownload.py -t {track} --st {st} --en {en}  --b \"{bbox}\" -nt 4'\n",
    "print (cmd)\n",
    "!{cmd}"
   ]
  },
  {
   "cell_type": "code",
   "execution_count": 1,
   "id": "d3dad29d-bc3e-4fa7-8902-8625a0aafffe",
   "metadata": {},
   "outputs": [],
   "source": [
    "!which ariaDownload.py"
   ]
  },
  {
   "cell_type": "code",
   "execution_count": 11,
   "id": "e6cc4518-2ac3-46eb-9556-52062544ef97",
   "metadata": {},
   "outputs": [
    {
     "name": "stdout",
     "output_type": "stream",
     "text": [
      "ariaDownload.py -t 004 --st 20170201 --en 20170501  --b \"36.75 37.225 -76.655 -75.928\" -nt 4 -o url\n",
      "/bin/bash: ariaDownload.py: command not found\n"
     ]
    }
   ],
   "source": [
    "# download the text file with the virtual urls\n",
    "cmd = f'ariaDownload.py -t 004 --st {st} --en {en}  --b \"{bbox}\" -nt 4 -o url'\n",
    "print (cmd)\n",
    "!{cmd}"
   ]
  },
  {
   "cell_type": "code",
   "execution_count": 9,
   "id": "f6580545-4c26-4d33-b810-cdd83920a79a",
   "metadata": {},
   "outputs": [
    {
     "name": "stdout",
     "output_type": "stream",
     "text": [
      "ariaExtract.py -f \"./products/*.nc\" --dem Download -nt 4\n",
      "ARIA-tools Version: 1.1.0\n",
      "*****************************************************************\n",
      "*** Extract Product Function ***\n",
      "*****************************************************************\n",
      "Multi-core version\n",
      "All (18) GUNW products meet spatial bbox criteria.\n",
      "Group GUNW products into spatiotemporally continuous interferograms.\n",
      "All (18) interferograms are spatially continuous.\n",
      "No layers specified; only creating bounding box shapes\n",
      "Thread count specified for gdal multiprocessing = 4\n",
      "Applied cutline to produce 3 arc-sec SRTM DEM: ./DEM/SRTM_3arcsec.dem\n"
     ]
    }
   ],
   "source": [
    "cmd = f'ariaExtract.py -f \"{path_proc}/products/*.nc\" --dem Download -nt 4'\n",
    "print (cmd)\n",
    "!{cmd}"
   ]
  },
  {
   "cell_type": "markdown",
   "id": "e9a9ab93-df2b-4ba4-8357-9de55ad42e32",
   "metadata": {
    "tags": []
   },
   "source": [
    "### tsSetup1 - Physical"
   ]
  },
  {
   "cell_type": "code",
   "execution_count": null,
   "id": "eca29681-4a5b-4d89-aac2-36e719effaab",
   "metadata": {},
   "outputs": [],
   "source": [
    "n     = 2 # run it twice; stats are stable\n",
    "\n",
    "# setup the file name of the profile\n",
    "today = datetime.today().strftime('%m%d') \n",
    "bname = f'PHYS_{nprod}_{today}'"
   ]
  },
  {
   "cell_type": "code",
   "execution_count": null,
   "id": "6d3d4160-1669-4e47-85ec-0b66fa02da3d",
   "metadata": {},
   "outputs": [],
   "source": [
    "for nn in range(n):\n",
    "    dst = op.join(path_profs, f'{bname}{nn}.profile')\n",
    "                \n",
    "    cmd = f'python -m cProfile -o {dst} '\\\n",
    "          f'-s time {path_AT}/bin/ariaTSsetup.py -f \"{path_proc}/products/S1*.nc\" '\\\n",
    "          f'--dem {path_dem} --layers \"all\" --bperp -nt {n_threads} '\n",
    "    print (cmd)\n",
    "    !{cmd}\n",
    "    print ('\\n-------Finished:', dst)\n",
    "    clean_dir(path_proc)"
   ]
  },
  {
   "cell_type": "markdown",
   "id": "0706391a-dc7e-4d28-9edb-79be77d63787",
   "metadata": {
    "tags": []
   },
   "source": [
    "### tsSetup1 - Virtual"
   ]
  },
  {
   "cell_type": "code",
   "execution_count": null,
   "id": "3c86f74c-e6cc-4478-bbbc-b5ec4eee5b54",
   "metadata": {},
   "outputs": [],
   "source": [
    "n     = 5 # run it nx\n",
    "\n",
    "# setup the file name of the profile\n",
    "today = datetime.today().strftime('%m%d') \n",
    "bname = f'VIRT_{nprod}_{today}'"
   ]
  },
  {
   "cell_type": "code",
   "execution_count": null,
   "id": "31bc9903-571e-426a-87d6-eb11461cb899",
   "metadata": {},
   "outputs": [],
   "source": [
    "for nn in range(n):\n",
    "    dst = op.join(path_profs, f'{bname}{nn}.profile')\n",
    "                \n",
    "    cmd = f'python -m cProfile -o {dst} '\\\n",
    "          f'-s time {path_AT}/bin/ariaTSsetup.py -f \"{path_proc}/products/track004_bbox-77W36S-75E38N_0.txt\" '\\\n",
    "          f'--dem {path_dem} --layers \"all\" --bperp -nt {n_threads} '\n",
    "    print (cmd)\n",
    "    !{cmd}\n",
    "    print ('\\n-------Finished:', dst)\n",
    "    clean_dir(path_proc)"
   ]
  },
  {
   "cell_type": "markdown",
   "id": "598ee3dc-09f9-42e7-9287-c13fd4d3a8ed",
   "metadata": {},
   "source": [
    "## Multiple Frames"
   ]
  },
  {
   "cell_type": "code",
   "execution_count": null,
   "id": "94055894-1d3d-40cf-86d4-1dc6cd41a701",
   "metadata": {},
   "outputs": [],
   "source": [
    "# 21 products between these dates for multiple frames\n",
    "st_tr, en_tr, nprod_tr = 20190101, 20190220, 21\n",
    "# st_tr, en_tr, nprod_tr  = 20170101, 20170315, 83 \n",
    "\n",
    "path_proc = op.join(path_wd, f'Track_{nprod_tr}_{gbranch}')\n",
    "os.makedirs(path_proc, exist_ok=True)\n",
    "os.chdir(path_proc)"
   ]
  },
  {
   "cell_type": "code",
   "execution_count": null,
   "id": "65559ff6-15cf-4728-8ff9-0bd38add0260",
   "metadata": {},
   "outputs": [],
   "source": [
    "# start from a fresh directory\n",
    "clear_directory(path_res)\n",
    "\n",
    "print ('Ready to download ARIA to:', path_proc)"
   ]
  },
  {
   "cell_type": "markdown",
   "id": "fff0b15f-971d-42f1-a984-d0eac67bd950",
   "metadata": {},
   "source": [
    "### Download"
   ]
  },
  {
   "cell_type": "code",
   "execution_count": null,
   "id": "0d7f03fc-5676-49d7-beb1-afe2ccfb71c0",
   "metadata": {},
   "outputs": [],
   "source": [
    "# download the physical products; \n",
    "# really this should count towards the time vs for virtual profiling, but it's pretty fast and makes comparison overly difficult\n",
    "cmd = f'ariaDownload.py -t {track} --st {st_tr} --en {en_tr} -nt 4'\n",
    "print (cmd)\n",
    "!{cmd}"
   ]
  },
  {
   "cell_type": "code",
   "execution_count": null,
   "id": "13d5dfb4-8928-4aaa-b0c5-9223dddf4034",
   "metadata": {},
   "outputs": [],
   "source": [
    "# download the text file with the virtual urls\n",
    "cmd = f'ariaDownload.py -t 004 --st {st_tr} --en {en_tr} -nt 4 -o url'\n",
    "print (cmd)\n",
    "!{cmd}"
   ]
  },
  {
   "cell_type": "code",
   "execution_count": null,
   "id": "08cfd7e7-b0b3-4201-8d29-d3a74f372deb",
   "metadata": {},
   "outputs": [],
   "source": [
    "cmd = f'ariaExtract.py -f \"{path_proc}/products/*.nc\" --dem Download -nt 4'\n",
    "print (cmd)\n",
    "!{cmd}"
   ]
  },
  {
   "cell_type": "markdown",
   "id": "8dc3a4b6-db3e-4a13-9862-26452a82d3d0",
   "metadata": {},
   "source": [
    "### tsSetup+ - Physical"
   ]
  },
  {
   "cell_type": "code",
   "execution_count": null,
   "id": "4d0c1b12-4b80-4907-a974-0a1d2e785a8d",
   "metadata": {},
   "outputs": [],
   "source": [
    "n     = 2 # run it twice; stats are stable\n",
    "\n",
    "# setup the file name of the profile\n",
    "today = datetime.today().strftime('%m%d') \n",
    "bname = f'PHYS_{nprod_tr}_{today}'"
   ]
  },
  {
   "cell_type": "code",
   "execution_count": null,
   "id": "1592d9fa-324c-4501-8c62-02dbc3869321",
   "metadata": {},
   "outputs": [],
   "source": [
    "for nn in range(n):\n",
    "    dst = op.join(path_profs, f'{bname}{nn}.profile')\n",
    "                \n",
    "    cmd = f'python -m cProfile -o {dst} '\\\n",
    "          f'-s time {path_AT}/bin/ariaTSsetup.py -f \"{path_proc}/products/S1*.nc\" '\\\n",
    "          f'--dem {path_dem} --layers \"all\" --bperp -nt {n_threads} '\n",
    "    print (cmd)\n",
    "    !{cmd}\n",
    "    print ('\\n-------Finished:', dst)\n",
    "    clean_dir(path_proc)"
   ]
  },
  {
   "cell_type": "markdown",
   "id": "a7fb4dde-e033-49dc-a702-61d3ed02b34c",
   "metadata": {},
   "source": [
    "### tsSetup+ - Virtual"
   ]
  },
  {
   "cell_type": "code",
   "execution_count": null,
   "id": "e0460942-e8ce-4439-94ed-0f67910fd850",
   "metadata": {},
   "outputs": [],
   "source": [
    "n     = 5 # run it nx\n",
    "\n",
    "# setup the file name of the profile\n",
    "today = datetime.today().strftime('%m%d') \n",
    "bname = f'VIRT_{nprod}_{today}'"
   ]
  },
  {
   "cell_type": "code",
   "execution_count": null,
   "id": "5d4fcd59-7476-49ee-b45e-d1574a2fa815",
   "metadata": {},
   "outputs": [],
   "source": [
    "for nn in range(n):\n",
    "    dst = op.join(path_profs, f'{bname}{nn}.profile')\n",
    "                \n",
    "    cmd = f'python -m cProfile -o {dst} '\\\n",
    "          f'-s time {path_AT}/bin/ariaTSsetup.py -f \"{path_proc}/products/track004_0.txt\" '\\\n",
    "          f'--dem {path_dem} --layers \"all\" --bperp -nt {n_threads} '\n",
    "    print (cmd)\n",
    "    !{cmd}\n",
    "    print ('\\n-------Finished:', dst)\n",
    "    clean_dir(path_proc)"
   ]
  }
 ],
 "metadata": {
  "kernelspec": {
   "display_name": "base",
   "language": "python",
   "name": "python3"
  },
  "language_info": {
   "codemirror_mode": {
    "name": "ipython",
    "version": 3
   },
   "file_extension": ".py",
   "mimetype": "text/x-python",
   "name": "python",
   "nbconvert_exporter": "python",
   "pygments_lexer": "ipython3",
   "version": "3.9.7"
  }
 },
 "nbformat": 4,
 "nbformat_minor": 5
}
