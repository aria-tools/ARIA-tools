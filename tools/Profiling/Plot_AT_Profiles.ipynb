{
 "cells": [
  {
   "cell_type": "code",
   "execution_count": 55,
   "id": "7f7fcff6-09be-4a74-9c00-8496671f3f2e",
   "metadata": {},
   "outputs": [
    {
     "name": "stdout",
     "output_type": "stream",
     "text": [
      "Automatic pdb calling has been turned OFF\n"
     ]
    }
   ],
   "source": [
    "import os, os.path as op\n",
    "import glob, shutil\n",
    "import numpy as np, pandas as pd\n",
    "import cProfile\n",
    "import pstats\n",
    "from matplotlib import colors\n",
    "import seaborn as sns\n",
    "\n",
    "%pdb off\n",
    "%matplotlib inline"
   ]
  },
  {
   "cell_type": "markdown",
   "id": "ac8a6f75-80ef-4f38-b15a-56e306818f75",
   "metadata": {},
   "source": [
    "## Get Profiles"
   ]
  },
  {
   "cell_type": "code",
   "execution_count": 2,
   "id": "9ce1737d-ce7f-4ec4-a059-e570ac974a48",
   "metadata": {},
   "outputs": [
    {
     "name": "stdout",
     "output_type": "stream",
     "text": [
      "Profiles at: /home/jovyan/Virtual_Tests_004/Profiles\n"
     ]
    }
   ],
   "source": [
    "# get paths to profiles\n",
    "track   = '004'\n",
    "path_wd = op.join(op.expanduser('~'), f'Virtual_Tests_{track}') \n",
    "path_profs = op.join(path_wd, 'Profiles')\n",
    "print ('Profiles at:', path_profs)"
   ]
  },
  {
   "cell_type": "code",
   "execution_count": 3,
   "id": "46343b27-6d73-4697-835c-52e3564105c6",
   "metadata": {},
   "outputs": [],
   "source": [
    "monyr    = '' # Optionally filter by a mon/yr, e.g., '0417'\n",
    "profiles = glob.glob(op.join(path_profs, f'{monyr}*.profile'))"
   ]
  },
  {
   "cell_type": "code",
   "execution_count": 76,
   "id": "29fd0018-72fa-4f65-b8b7-b2a396d6e867",
   "metadata": {},
   "outputs": [
    {
     "data": {
      "text/html": [
       "<div>\n",
       "<style scoped>\n",
       "    .dataframe tbody tr th:only-of-type {\n",
       "        vertical-align: middle;\n",
       "    }\n",
       "\n",
       "    .dataframe tbody tr th {\n",
       "        vertical-align: top;\n",
       "    }\n",
       "\n",
       "    .dataframe thead th {\n",
       "        text-align: right;\n",
       "    }\n",
       "</style>\n",
       "<table border=\"1\" class=\"dataframe\">\n",
       "  <thead>\n",
       "    <tr style=\"text-align: right;\">\n",
       "      <th></th>\n",
       "      <th>kind</th>\n",
       "      <th>nprod</th>\n",
       "      <th>gbranch</th>\n",
       "      <th>monyr</th>\n",
       "      <th>tot</th>\n",
       "    </tr>\n",
       "    <tr>\n",
       "      <th>idx</th>\n",
       "      <th></th>\n",
       "      <th></th>\n",
       "      <th></th>\n",
       "      <th></th>\n",
       "      <th></th>\n",
       "    </tr>\n",
       "  </thead>\n",
       "  <tbody>\n",
       "    <tr>\n",
       "      <th>0</th>\n",
       "      <td>VIRT</td>\n",
       "      <td>18</td>\n",
       "      <td>dev</td>\n",
       "      <td>0417</td>\n",
       "      <td>732.027</td>\n",
       "    </tr>\n",
       "    <tr>\n",
       "      <th>1</th>\n",
       "      <td>PHYS</td>\n",
       "      <td>18</td>\n",
       "      <td>dev</td>\n",
       "      <td>0417</td>\n",
       "      <td>246.097</td>\n",
       "    </tr>\n",
       "    <tr>\n",
       "      <th>0</th>\n",
       "      <td>PHYS</td>\n",
       "      <td>18</td>\n",
       "      <td>dev</td>\n",
       "      <td>0417</td>\n",
       "      <td>245.636</td>\n",
       "    </tr>\n",
       "    <tr>\n",
       "      <th>1</th>\n",
       "      <td>VIRT</td>\n",
       "      <td>18</td>\n",
       "      <td>dev</td>\n",
       "      <td>0417</td>\n",
       "      <td>0.693</td>\n",
       "    </tr>\n",
       "  </tbody>\n",
       "</table>\n",
       "</div>"
      ],
      "text/plain": [
       "     kind nprod gbranch monyr      tot\n",
       "idx                                   \n",
       "0    VIRT    18     dev  0417  732.027\n",
       "1    PHYS    18     dev  0417  246.097\n",
       "0    PHYS    18     dev  0417  245.636\n",
       "1    VIRT    18     dev  0417    0.693"
      ]
     },
     "execution_count": 76,
     "metadata": {},
     "output_type": "execute_result"
    }
   ],
   "source": [
    "## make a dataframe with the total time info for all exps\n",
    "rows = []\n",
    "for prof in profiles:\n",
    "    row = op.splitext(op.basename(prof))[0].split('_')[:5]\n",
    "    p = pstats.Stats(prof)\n",
    "    tt = p.get_stats_profile().total_tt\n",
    "    # p.sort_stats('time')\n",
    "    # p.print_stats(5)\n",
    "    # print (prof, f': {tt/60:.2f} min')\n",
    "    row.append(tt)\n",
    "    rows.append(row)\n",
    "    \n",
    "df_stats = pd.DataFrame(rows, columns='kind nprod gbranch monyr idx tot'.split()).set_index('idx')\n",
    "df_stats"
   ]
  },
  {
   "cell_type": "markdown",
   "id": "d00d3909-2406-40c2-8c24-bccecb211ef5",
   "metadata": {},
   "source": [
    "## Single Frame"
   ]
  },
  {
   "cell_type": "code",
   "execution_count": 77,
   "id": "9371c780-adcb-4c54-b343-80c9467f82c0",
   "metadata": {},
   "outputs": [
    {
     "data": {
      "text/html": [
       "<div>\n",
       "<style scoped>\n",
       "    .dataframe tbody tr th:only-of-type {\n",
       "        vertical-align: middle;\n",
       "    }\n",
       "\n",
       "    .dataframe tbody tr th {\n",
       "        vertical-align: top;\n",
       "    }\n",
       "\n",
       "    .dataframe thead th {\n",
       "        text-align: right;\n",
       "    }\n",
       "</style>\n",
       "<table border=\"1\" class=\"dataframe\">\n",
       "  <thead>\n",
       "    <tr style=\"text-align: right;\">\n",
       "      <th></th>\n",
       "      <th>kind</th>\n",
       "      <th>nprod</th>\n",
       "      <th>gbranch</th>\n",
       "      <th>monyr</th>\n",
       "      <th>tot</th>\n",
       "    </tr>\n",
       "    <tr>\n",
       "      <th>idx</th>\n",
       "      <th></th>\n",
       "      <th></th>\n",
       "      <th></th>\n",
       "      <th></th>\n",
       "      <th></th>\n",
       "    </tr>\n",
       "  </thead>\n",
       "  <tbody>\n",
       "    <tr>\n",
       "      <th>0</th>\n",
       "      <td>VIRT</td>\n",
       "      <td>18</td>\n",
       "      <td>dev</td>\n",
       "      <td>0417</td>\n",
       "      <td>732.027</td>\n",
       "    </tr>\n",
       "    <tr>\n",
       "      <th>1</th>\n",
       "      <td>PHYS</td>\n",
       "      <td>18</td>\n",
       "      <td>dev</td>\n",
       "      <td>0417</td>\n",
       "      <td>246.097</td>\n",
       "    </tr>\n",
       "    <tr>\n",
       "      <th>0</th>\n",
       "      <td>PHYS</td>\n",
       "      <td>18</td>\n",
       "      <td>dev</td>\n",
       "      <td>0417</td>\n",
       "      <td>245.636</td>\n",
       "    </tr>\n",
       "    <tr>\n",
       "      <th>1</th>\n",
       "      <td>VIRT</td>\n",
       "      <td>18</td>\n",
       "      <td>dev</td>\n",
       "      <td>0417</td>\n",
       "      <td>0.693</td>\n",
       "    </tr>\n",
       "  </tbody>\n",
       "</table>\n",
       "</div>"
      ],
      "text/plain": [
       "     kind nprod gbranch monyr      tot\n",
       "idx                                   \n",
       "0    VIRT    18     dev  0417  732.027\n",
       "1    PHYS    18     dev  0417  246.097\n",
       "0    PHYS    18     dev  0417  245.636\n",
       "1    VIRT    18     dev  0417    0.693"
      ]
     },
     "execution_count": 77,
     "metadata": {},
     "output_type": "execute_result"
    }
   ],
   "source": [
    "df_stats"
   ]
  },
  {
   "cell_type": "code",
   "execution_count": 83,
   "id": "1dcdd5d6-5c63-4db4-bea6-e7ff88eddfee",
   "metadata": {},
   "outputs": [],
   "source": [
    "nprod = 18 # 80\n",
    "df_sf = df_stats[df_stats.nprod == str(nprod)]"
   ]
  },
  {
   "cell_type": "code",
   "execution_count": 84,
   "id": "71b78eee-ce95-4339-83b2-97786ddb91e4",
   "metadata": {},
   "outputs": [
    {
     "data": {
      "text/html": [
       "<div>\n",
       "<style scoped>\n",
       "    .dataframe tbody tr th:only-of-type {\n",
       "        vertical-align: middle;\n",
       "    }\n",
       "\n",
       "    .dataframe tbody tr th {\n",
       "        vertical-align: top;\n",
       "    }\n",
       "\n",
       "    .dataframe thead th {\n",
       "        text-align: right;\n",
       "    }\n",
       "</style>\n",
       "<table border=\"1\" class=\"dataframe\">\n",
       "  <thead>\n",
       "    <tr style=\"text-align: right;\">\n",
       "      <th></th>\n",
       "      <th>kind</th>\n",
       "      <th>nprod</th>\n",
       "      <th>gbranch</th>\n",
       "      <th>monyr</th>\n",
       "      <th>tot</th>\n",
       "    </tr>\n",
       "    <tr>\n",
       "      <th>idx</th>\n",
       "      <th></th>\n",
       "      <th></th>\n",
       "      <th></th>\n",
       "      <th></th>\n",
       "      <th></th>\n",
       "    </tr>\n",
       "  </thead>\n",
       "  <tbody>\n",
       "    <tr>\n",
       "      <th>0</th>\n",
       "      <td>VIRT</td>\n",
       "      <td>18</td>\n",
       "      <td>dev</td>\n",
       "      <td>0417</td>\n",
       "      <td>732.027</td>\n",
       "    </tr>\n",
       "    <tr>\n",
       "      <th>1</th>\n",
       "      <td>PHYS</td>\n",
       "      <td>18</td>\n",
       "      <td>dev</td>\n",
       "      <td>0417</td>\n",
       "      <td>246.097</td>\n",
       "    </tr>\n",
       "    <tr>\n",
       "      <th>0</th>\n",
       "      <td>PHYS</td>\n",
       "      <td>18</td>\n",
       "      <td>dev</td>\n",
       "      <td>0417</td>\n",
       "      <td>245.636</td>\n",
       "    </tr>\n",
       "    <tr>\n",
       "      <th>1</th>\n",
       "      <td>VIRT</td>\n",
       "      <td>18</td>\n",
       "      <td>dev</td>\n",
       "      <td>0417</td>\n",
       "      <td>0.693</td>\n",
       "    </tr>\n",
       "  </tbody>\n",
       "</table>\n",
       "</div>"
      ],
      "text/plain": [
       "     kind nprod gbranch monyr      tot\n",
       "idx                                   \n",
       "0    VIRT    18     dev  0417  732.027\n",
       "1    PHYS    18     dev  0417  246.097\n",
       "0    PHYS    18     dev  0417  245.636\n",
       "1    VIRT    18     dev  0417    0.693"
      ]
     },
     "execution_count": 84,
     "metadata": {},
     "output_type": "execute_result"
    }
   ],
   "source": [
    "df_sf"
   ]
  },
  {
   "cell_type": "markdown",
   "id": "c350337d-74ed-47b7-ba67-66f6f4c32228",
   "metadata": {},
   "source": [
    "### Virtual vs Physical, one branch"
   ]
  },
  {
   "cell_type": "code",
   "execution_count": 79,
   "id": "fe597b28-29b7-4d9d-87eb-ba418e9d3fad",
   "metadata": {},
   "outputs": [],
   "source": [
    "gbranch = 'dev'"
   ]
  },
  {
   "cell_type": "code",
   "execution_count": 85,
   "id": "8df05864-b37a-4513-85ca-063058efa5b9",
   "metadata": {},
   "outputs": [],
   "source": [
    "df_sf_b = df_sf[df_sf.gbranch==gbranch]"
   ]
  },
  {
   "cell_type": "code",
   "execution_count": 98,
   "id": "9366f288-bff0-4d26-9985-772e93602e5d",
   "metadata": {},
   "outputs": [],
   "source": [
    "df_sf_b['lbl']   = df_sf_b.apply(lambda x: f\"{x['kind']}{x.name}\", axis=1)\n",
    "col_dct          = {'VIRT': 'darkblue', 'PHYS':'dimgray'}\n",
    "df_sf_b['color'] =  df_sf_b['kind'].apply(lambda x: col_dct[x])"
   ]
  },
  {
   "cell_type": "code",
   "execution_count": 102,
   "id": "b8e170d5-735e-49ff-9e31-fa90eaa05c80",
   "metadata": {},
   "outputs": [
    {
     "data": {
      "image/png": "[encoded data removed]",
      "text/plain": [
       "<Figure size 432x288 with 1 Axes>"
      ]
     },
     "metadata": {
      "needs_background": "light"
     },
     "output_type": "display_data"
    }
   ],
   "source": [
    "df_sf_b.sort_values('lbl', inplace=True)\n",
    "ax = sns.barplot(x='lbl', y='tot', palette=df_sf_b['color'], data=df_sf_b)\n",
    "ax.set_xlabel('')\n",
    "ax.set_ylabel('Total time (s)');"
   ]
  },
  {
   "cell_type": "markdown",
   "id": "3db25564-ccc9-4e38-a280-85addbe3f739",
   "metadata": {},
   "source": [
    "### Virtual vs Physical, all branch\n",
    "- todo"
   ]
  },
  {
   "cell_type": "code",
   "execution_count": 105,
   "id": "d7a8e47a-7184-46dd-bebb-173606c47562",
   "metadata": {},
   "outputs": [
    {
     "data": {
      "text/plain": [
       "<AxesSubplot:xlabel='kind', ylabel='tot'>"
      ]
     },
     "execution_count": 105,
     "metadata": {},
     "output_type": "execute_result"
    },
    {
     "data": {
      "image/png": "[encoded data removed]",
      "text/plain": [
       "<Figure size 432x288 with 1 Axes>"
      ]
     },
     "metadata": {
      "needs_background": "light"
     },
     "output_type": "display_data"
    }
   ],
   "source": [
    "sns.violinplot(x='kind', y='tot', data=df_sf, hue='gbranch', inner='quartile')"
   ]
  },
  {
   "cell_type": "code",
   "execution_count": null,
   "id": "be4dfe44-317b-4cf5-8e41-9e065f4ba7b4",
   "metadata": {},
   "outputs": [],
   "source": []
  }
 ],
 "metadata": {
  "kernelspec": {
   "display_name": "Python 3 (ipykernel)",
   "language": "python",
   "name": "conda-env-.local-ARIA-py"
  },
  "language_info": {
   "codemirror_mode": {
    "name": "ipython",
    "version": 3
   },
   "file_extension": ".py",
   "mimetype": "text/x-python",
   "name": "python",
   "nbconvert_exporter": "python",
   "pygments_lexer": "ipython3",
   "version": "3.10.4"
  }
 },
 "nbformat": 4,
 "nbformat_minor": 5
}
