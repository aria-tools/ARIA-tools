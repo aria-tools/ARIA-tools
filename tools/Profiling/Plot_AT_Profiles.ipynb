{
 "cells": [
  {
   "cell_type": "code",
   "execution_count": 1,
   "id": "7f7fcff6-09be-4a74-9c00-8496671f3f2e",
   "metadata": {},
   "outputs": [
    {
     "name": "stdout",
     "output_type": "stream",
     "text": [
      "Automatic pdb calling has been turned OFF\n"
     ]
    }
   ],
   "source": [
    "import os, os.path as op\n",
    "import glob, shutil\n",
    "import pandas as pd\n",
    "import cProfile, pstats\n",
    "import matplotlib.pyplot as plt\n",
    "import seaborn as sns\n",
    "\n",
    "%pdb off\n",
    "%matplotlib inline \n",
    "# don't use %matplotlib notebook"
   ]
  },
  {
   "cell_type": "markdown",
   "id": "ac8a6f75-80ef-4f38-b15a-56e306818f75",
   "metadata": {},
   "source": [
    "## Get Profiles"
   ]
  },
  {
   "cell_type": "code",
   "execution_count": 2,
   "id": "9ce1737d-ce7f-4ec4-a059-e570ac974a48",
   "metadata": {},
   "outputs": [
    {
     "name": "stdout",
     "output_type": "stream",
     "text": [
      "Profiles at: /home/jovyan/ARIA-tools_git/tools/Profiling/Profiles\n"
     ]
    }
   ],
   "source": [
    "# get paths to profiles; realpath not guaranteed to work\n",
    "path_wd    = op.dirname(op.realpath(\"__file__\"))\n",
    "path_profs = op.join(path_wd, 'Profiles')\n",
    "print ('Profiles at:', path_profs)"
   ]
  },
  {
   "cell_type": "code",
   "execution_count": 3,
   "id": "46343b27-6d73-4697-835c-52e3564105c6",
   "metadata": {},
   "outputs": [],
   "source": [
    "monyr    = '' # Optionally filter by a mon/yr, e.g., '0417'\n",
    "length   = 'short' # use fewer or more products\n",
    "profiles = glob.glob(op.join(path_profs, f'{monyr}*.profile'))"
   ]
  },
  {
   "cell_type": "code",
   "execution_count": 4,
   "id": "29fd0018-72fa-4f65-b8b7-b2a396d6e867",
   "metadata": {},
   "outputs": [
    {
     "data": {
      "text/html": [
       "<div>\n",
       "<style scoped>\n",
       "    .dataframe tbody tr th:only-of-type {\n",
       "        vertical-align: middle;\n",
       "    }\n",
       "\n",
       "    .dataframe tbody tr th {\n",
       "        vertical-align: top;\n",
       "    }\n",
       "\n",
       "    .dataframe thead th {\n",
       "        text-align: right;\n",
       "    }\n",
       "</style>\n",
       "<table border=\"1\" class=\"dataframe\">\n",
       "  <thead>\n",
       "    <tr style=\"text-align: right;\">\n",
       "      <th></th>\n",
       "      <th>kind</th>\n",
       "      <th>nprod</th>\n",
       "      <th>gbranch</th>\n",
       "      <th>monyr</th>\n",
       "      <th>tot</th>\n",
       "    </tr>\n",
       "    <tr>\n",
       "      <th>idx</th>\n",
       "      <th></th>\n",
       "      <th></th>\n",
       "      <th></th>\n",
       "      <th></th>\n",
       "      <th></th>\n",
       "    </tr>\n",
       "  </thead>\n",
       "  <tbody>\n",
       "    <tr>\n",
       "      <th>2</th>\n",
       "      <td>VIRT</td>\n",
       "      <td>18</td>\n",
       "      <td>Profiling</td>\n",
       "      <td>0419</td>\n",
       "      <td>509.777</td>\n",
       "    </tr>\n",
       "    <tr>\n",
       "      <th>4</th>\n",
       "      <td>VIRT</td>\n",
       "      <td>21</td>\n",
       "      <td>Profiling</td>\n",
       "      <td>0419</td>\n",
       "      <td>687.686</td>\n",
       "    </tr>\n",
       "    <tr>\n",
       "      <th>1</th>\n",
       "      <td>VIRT</td>\n",
       "      <td>18</td>\n",
       "      <td>Profiling</td>\n",
       "      <td>0419</td>\n",
       "      <td>572.033</td>\n",
       "    </tr>\n",
       "    <tr>\n",
       "      <th>3</th>\n",
       "      <td>VIRT</td>\n",
       "      <td>21</td>\n",
       "      <td>Profiling</td>\n",
       "      <td>0419</td>\n",
       "      <td>695.299</td>\n",
       "    </tr>\n",
       "    <tr>\n",
       "      <th>1</th>\n",
       "      <td>PHYS</td>\n",
       "      <td>21</td>\n",
       "      <td>Profiling</td>\n",
       "      <td>0419</td>\n",
       "      <td>1440.714</td>\n",
       "    </tr>\n",
       "    <tr>\n",
       "      <th>1</th>\n",
       "      <td>VIRT</td>\n",
       "      <td>21</td>\n",
       "      <td>Profiling</td>\n",
       "      <td>0419</td>\n",
       "      <td>782.250</td>\n",
       "    </tr>\n",
       "    <tr>\n",
       "      <th>0</th>\n",
       "      <td>VIRT</td>\n",
       "      <td>18</td>\n",
       "      <td>Profiling</td>\n",
       "      <td>0419</td>\n",
       "      <td>1173.958</td>\n",
       "    </tr>\n",
       "    <tr>\n",
       "      <th>2</th>\n",
       "      <td>VIRT</td>\n",
       "      <td>21</td>\n",
       "      <td>Profiling</td>\n",
       "      <td>0419</td>\n",
       "      <td>726.661</td>\n",
       "    </tr>\n",
       "    <tr>\n",
       "      <th>0</th>\n",
       "      <td>VIRT</td>\n",
       "      <td>21</td>\n",
       "      <td>Profiling</td>\n",
       "      <td>0419</td>\n",
       "      <td>2379.085</td>\n",
       "    </tr>\n",
       "    <tr>\n",
       "      <th>0</th>\n",
       "      <td>PHYS</td>\n",
       "      <td>21</td>\n",
       "      <td>Profiling</td>\n",
       "      <td>0419</td>\n",
       "      <td>1437.171</td>\n",
       "    </tr>\n",
       "    <tr>\n",
       "      <th>0</th>\n",
       "      <td>PHYS</td>\n",
       "      <td>18</td>\n",
       "      <td>Profiling</td>\n",
       "      <td>0419</td>\n",
       "      <td>246.391</td>\n",
       "    </tr>\n",
       "    <tr>\n",
       "      <th>1</th>\n",
       "      <td>PHYS</td>\n",
       "      <td>18</td>\n",
       "      <td>Profiling</td>\n",
       "      <td>0419</td>\n",
       "      <td>245.150</td>\n",
       "    </tr>\n",
       "    <tr>\n",
       "      <th>3</th>\n",
       "      <td>VIRT</td>\n",
       "      <td>18</td>\n",
       "      <td>Profiling</td>\n",
       "      <td>0419</td>\n",
       "      <td>513.461</td>\n",
       "    </tr>\n",
       "    <tr>\n",
       "      <th>4</th>\n",
       "      <td>VIRT</td>\n",
       "      <td>18</td>\n",
       "      <td>Profiling</td>\n",
       "      <td>0419</td>\n",
       "      <td>487.941</td>\n",
       "    </tr>\n",
       "  </tbody>\n",
       "</table>\n",
       "</div>"
      ],
      "text/plain": [
       "     kind nprod    gbranch monyr       tot\n",
       "idx                                       \n",
       "2    VIRT    18  Profiling  0419   509.777\n",
       "4    VIRT    21  Profiling  0419   687.686\n",
       "1    VIRT    18  Profiling  0419   572.033\n",
       "3    VIRT    21  Profiling  0419   695.299\n",
       "1    PHYS    21  Profiling  0419  1440.714\n",
       "1    VIRT    21  Profiling  0419   782.250\n",
       "0    VIRT    18  Profiling  0419  1173.958\n",
       "2    VIRT    21  Profiling  0419   726.661\n",
       "0    VIRT    21  Profiling  0419  2379.085\n",
       "0    PHYS    21  Profiling  0419  1437.171\n",
       "0    PHYS    18  Profiling  0419   246.391\n",
       "1    PHYS    18  Profiling  0419   245.150\n",
       "3    VIRT    18  Profiling  0419   513.461\n",
       "4    VIRT    18  Profiling  0419   487.941"
      ]
     },
     "execution_count": 4,
     "metadata": {},
     "output_type": "execute_result"
    }
   ],
   "source": [
    "## make a dataframe with the total time info for all exps\n",
    "rows = []\n",
    "for prof in profiles:\n",
    "    row = op.splitext(op.basename(prof))[0].split('_')[:5]\n",
    "    p = pstats.Stats(prof)\n",
    "    tt = p.get_stats_profile().total_tt\n",
    "    row.append(tt)\n",
    "    rows.append(row)\n",
    "    \n",
    "df_stats = pd.DataFrame(rows, columns='kind nprod gbranch monyr idx tot'.split()).set_index('idx')\n",
    "df_stats.head(10)"
   ]
  },
  {
   "cell_type": "code",
   "execution_count": 5,
   "id": "497a0697-21c2-4c6c-a15a-151f0cabe4c6",
   "metadata": {},
   "outputs": [],
   "source": [
    "## these arent really useful as its hard to find what's actually going on; use snakeviz or tuna to visualize\n",
    "# p.sort_stats('time')\n",
    "# p.strip_dirs().sort_stats('cumtime').print_stats()"
   ]
  },
  {
   "cell_type": "markdown",
   "id": "d00d3909-2406-40c2-8c24-bccecb211ef5",
   "metadata": {
    "tags": []
   },
   "source": [
    "## Single Frame"
   ]
  },
  {
   "cell_type": "code",
   "execution_count": 6,
   "id": "1dcdd5d6-5c63-4db4-bea6-e7ff88eddfee",
   "metadata": {},
   "outputs": [
    {
     "data": {
      "text/html": [
       "<div>\n",
       "<style scoped>\n",
       "    .dataframe tbody tr th:only-of-type {\n",
       "        vertical-align: middle;\n",
       "    }\n",
       "\n",
       "    .dataframe tbody tr th {\n",
       "        vertical-align: top;\n",
       "    }\n",
       "\n",
       "    .dataframe thead th {\n",
       "        text-align: right;\n",
       "    }\n",
       "</style>\n",
       "<table border=\"1\" class=\"dataframe\">\n",
       "  <thead>\n",
       "    <tr style=\"text-align: right;\">\n",
       "      <th></th>\n",
       "      <th>kind</th>\n",
       "      <th>nprod</th>\n",
       "      <th>gbranch</th>\n",
       "      <th>monyr</th>\n",
       "      <th>tot</th>\n",
       "    </tr>\n",
       "    <tr>\n",
       "      <th>idx</th>\n",
       "      <th></th>\n",
       "      <th></th>\n",
       "      <th></th>\n",
       "      <th></th>\n",
       "      <th></th>\n",
       "    </tr>\n",
       "  </thead>\n",
       "  <tbody>\n",
       "    <tr>\n",
       "      <th>2</th>\n",
       "      <td>VIRT</td>\n",
       "      <td>18</td>\n",
       "      <td>Profiling</td>\n",
       "      <td>0419</td>\n",
       "      <td>509.777</td>\n",
       "    </tr>\n",
       "    <tr>\n",
       "      <th>1</th>\n",
       "      <td>VIRT</td>\n",
       "      <td>18</td>\n",
       "      <td>Profiling</td>\n",
       "      <td>0419</td>\n",
       "      <td>572.033</td>\n",
       "    </tr>\n",
       "    <tr>\n",
       "      <th>0</th>\n",
       "      <td>VIRT</td>\n",
       "      <td>18</td>\n",
       "      <td>Profiling</td>\n",
       "      <td>0419</td>\n",
       "      <td>1173.958</td>\n",
       "    </tr>\n",
       "    <tr>\n",
       "      <th>0</th>\n",
       "      <td>PHYS</td>\n",
       "      <td>18</td>\n",
       "      <td>Profiling</td>\n",
       "      <td>0419</td>\n",
       "      <td>246.391</td>\n",
       "    </tr>\n",
       "    <tr>\n",
       "      <th>1</th>\n",
       "      <td>PHYS</td>\n",
       "      <td>18</td>\n",
       "      <td>Profiling</td>\n",
       "      <td>0419</td>\n",
       "      <td>245.150</td>\n",
       "    </tr>\n",
       "    <tr>\n",
       "      <th>3</th>\n",
       "      <td>VIRT</td>\n",
       "      <td>18</td>\n",
       "      <td>Profiling</td>\n",
       "      <td>0419</td>\n",
       "      <td>513.461</td>\n",
       "    </tr>\n",
       "    <tr>\n",
       "      <th>4</th>\n",
       "      <td>VIRT</td>\n",
       "      <td>18</td>\n",
       "      <td>Profiling</td>\n",
       "      <td>0419</td>\n",
       "      <td>487.941</td>\n",
       "    </tr>\n",
       "  </tbody>\n",
       "</table>\n",
       "</div>"
      ],
      "text/plain": [
       "     kind nprod    gbranch monyr       tot\n",
       "idx                                       \n",
       "2    VIRT    18  Profiling  0419   509.777\n",
       "1    VIRT    18  Profiling  0419   572.033\n",
       "0    VIRT    18  Profiling  0419  1173.958\n",
       "0    PHYS    18  Profiling  0419   246.391\n",
       "1    PHYS    18  Profiling  0419   245.150\n",
       "3    VIRT    18  Profiling  0419   513.461\n",
       "4    VIRT    18  Profiling  0419   487.941"
      ]
     },
     "execution_count": 6,
     "metadata": {},
     "output_type": "execute_result"
    }
   ],
   "source": [
    "nprod = 18 if length == 'short' else 80\n",
    "df_sf = df_stats[df_stats.nprod == str(nprod)]\n",
    "df_sf"
   ]
  },
  {
   "cell_type": "markdown",
   "id": "c350337d-74ed-47b7-ba67-66f6f4c32228",
   "metadata": {
    "tags": []
   },
   "source": [
    "### Virtual vs Physical, one branch"
   ]
  },
  {
   "cell_type": "code",
   "execution_count": 7,
   "id": "fe597b28-29b7-4d9d-87eb-ba418e9d3fad",
   "metadata": {},
   "outputs": [],
   "source": [
    "gbranch = 'Profiling'"
   ]
  },
  {
   "cell_type": "code",
   "execution_count": 8,
   "id": "8df05864-b37a-4513-85ca-063058efa5b9",
   "metadata": {},
   "outputs": [],
   "source": [
    "df_sf_b = df_sf[df_sf.gbranch==gbranch]"
   ]
  },
  {
   "cell_type": "code",
   "execution_count": 26,
   "id": "9366f288-bff0-4d26-9985-772e93602e5d",
   "metadata": {},
   "outputs": [],
   "source": [
    "df_sf_b['lbl']   = df_sf_b.apply(lambda x: f\"{x['kind']}{x.name}\", axis=1)\n",
    "col_dct          = {'VIRT': 'blue', 'PHYS':'gray'}\n",
    "df_sf_b['color'] =  df_sf_b['kind'].apply(lambda x: col_dct[x])"
   ]
  },
  {
   "cell_type": "code",
   "execution_count": 27,
   "id": "b8e170d5-735e-49ff-9e31-fa90eaa05c80",
   "metadata": {},
   "outputs": [
    {
     "data": {
      "image/png": "[encoded data removed]",
      "text/plain": [
       "<Figure size 864x432 with 2 Axes>"
      ]
     },
     "metadata": {
      "needs_background": "light"
     },
     "output_type": "display_data"
    }
   ],
   "source": [
    "df_sf_b.sort_values('lbl', inplace=True)\n",
    "\n",
    "fig, axes = plt.subplots(figsize=(12, 6), ncols=2, sharey=True)\n",
    "# plot all the experiments\n",
    "axe0 = sns.barplot(x='lbl', y='tot', palette=df_sf_b['color'], data=df_sf_b, ax=axes[0])\n",
    "axe0.set_xlabel('')\n",
    "axe0.set_ylabel('Total time (s)')\n",
    "\n",
    "# plot the average\n",
    "axe1 = sns.barplot(x='kind', y='tot', palette=df_sf_b['color'].unique(), ci='sd', data=df_sf_b, ax=axes[1])\n",
    "axe1.set_xlabel(''); axe1.set_ylabel('');"
   ]
  },
  {
   "cell_type": "code",
   "execution_count": 11,
   "id": "b87fc3a9-916a-4b90-a3c5-dd71c5506803",
   "metadata": {},
   "outputs": [
    {
     "name": "stdout",
     "output_type": "stream",
     "text": [
      "Physical: 245.77 +/- 0.88 seconds\n",
      "Virtual: 651.43 +/- 293.76 seconds\n"
     ]
    }
   ],
   "source": [
    "mu, sig = df_sf.groupby('kind').mean(), df_sf.groupby('kind').std()\n",
    "print (f\"Physical: {mu.loc['PHYS'].item():.2f} +/- {sig.loc['PHYS'].item():.2f} seconds\")\n",
    "print (f\"Virtual: {mu.loc['VIRT'].item():.2f} +/- {sig.loc['VIRT'].item():.2f} seconds\")"
   ]
  },
  {
   "cell_type": "markdown",
   "id": "3db25564-ccc9-4e38-a280-85addbe3f739",
   "metadata": {
    "tags": []
   },
   "source": [
    "### Virtual vs Physical, all branches"
   ]
  },
  {
   "cell_type": "code",
   "execution_count": 12,
   "id": "3ed7eac3-142d-410d-a9b2-7565f4a17208",
   "metadata": {},
   "outputs": [],
   "source": [
    "# dummy to check plotting\n",
    "df_sf1 = df_sf.copy()\n",
    "df_sf1['gbranch'] = 'dev'\n",
    "df_sf1['tot'] += 100\n",
    "df_sf  = pd.concat([df_sf, df_sf1])"
   ]
  },
  {
   "cell_type": "code",
   "execution_count": 29,
   "id": "d7a8e47a-7184-46dd-bebb-173606c47562",
   "metadata": {},
   "outputs": [
    {
     "data": {
      "image/png": "[encoded data removed]",
      "text/plain": [
       "<Figure size 432x288 with 1 Axes>"
      ]
     },
     "metadata": {
      "needs_background": "light"
     },
     "output_type": "display_data"
    }
   ],
   "source": [
    "ax = sns.barplot(x='kind', y='tot', data=df_sf.sort_values('kind'), ci='sd', palette='colorblind', hue='gbranch')\n",
    "ax.set_xlabel('')\n",
    "ax.set_ylabel('Elapsed Time (seconds)')\n",
    "ax.legend().set_title('')"
   ]
  },
  {
   "cell_type": "code",
   "execution_count": 14,
   "id": "be4dfe44-317b-4cf5-8e41-9e065f4ba7b4",
   "metadata": {},
   "outputs": [
    {
     "name": "stdout",
     "output_type": "stream",
     "text": [
      "Physical Profiling: 245.77 +/- 0.88 seconds\n",
      "Virtual Profiling: 651.43 +/- 293.76 seconds\n",
      "\n",
      "Physical dev: 345.77 +/- 0.88 seconds\n",
      "Virtual dev: 751.43 +/- 293.76 seconds\n",
      "\n"
     ]
    }
   ],
   "source": [
    "mu, sig = df_sf.groupby('kind gbranch'.split()).mean().reset_index(), df_sf.groupby('kind gbranch'.split()).std().reset_index()\n",
    "for gb in mu['gbranch'].unique():\n",
    "    mu0, sig0 = mu[mu.gbranch == gb].set_index('kind'), sig[sig.gbranch==gb].set_index('kind')\n",
    "    print (f\"Physical {gb}: {mu0.loc['PHYS', 'tot'].item():.2f} +/- {sig0.loc['PHYS', 'tot'].item():.2f} seconds\")\n",
    "    print (f\"Virtual {gb}: {mu0.loc['VIRT', 'tot'].item():.2f} +/- {sig0.loc['VIRT', 'tot'].item():.2f} seconds\")\n",
    "    print ('')"
   ]
  },
  {
   "cell_type": "markdown",
   "id": "61025102-cd2d-4d55-8eba-418c5d3a4426",
   "metadata": {},
   "source": [
    "## Multiple Frames"
   ]
  },
  {
   "cell_type": "code",
   "execution_count": 16,
   "id": "7ae13366-7943-4ae3-82bf-65f5b39dd6fd",
   "metadata": {},
   "outputs": [
    {
     "data": {
      "text/html": [
       "<div>\n",
       "<style scoped>\n",
       "    .dataframe tbody tr th:only-of-type {\n",
       "        vertical-align: middle;\n",
       "    }\n",
       "\n",
       "    .dataframe tbody tr th {\n",
       "        vertical-align: top;\n",
       "    }\n",
       "\n",
       "    .dataframe thead th {\n",
       "        text-align: right;\n",
       "    }\n",
       "</style>\n",
       "<table border=\"1\" class=\"dataframe\">\n",
       "  <thead>\n",
       "    <tr style=\"text-align: right;\">\n",
       "      <th></th>\n",
       "      <th>kind</th>\n",
       "      <th>nprod</th>\n",
       "      <th>gbranch</th>\n",
       "      <th>monyr</th>\n",
       "      <th>tot</th>\n",
       "    </tr>\n",
       "    <tr>\n",
       "      <th>idx</th>\n",
       "      <th></th>\n",
       "      <th></th>\n",
       "      <th></th>\n",
       "      <th></th>\n",
       "      <th></th>\n",
       "    </tr>\n",
       "  </thead>\n",
       "  <tbody>\n",
       "    <tr>\n",
       "      <th>4</th>\n",
       "      <td>VIRT</td>\n",
       "      <td>21</td>\n",
       "      <td>Profiling</td>\n",
       "      <td>0419</td>\n",
       "      <td>687.686</td>\n",
       "    </tr>\n",
       "    <tr>\n",
       "      <th>3</th>\n",
       "      <td>VIRT</td>\n",
       "      <td>21</td>\n",
       "      <td>Profiling</td>\n",
       "      <td>0419</td>\n",
       "      <td>695.299</td>\n",
       "    </tr>\n",
       "    <tr>\n",
       "      <th>1</th>\n",
       "      <td>PHYS</td>\n",
       "      <td>21</td>\n",
       "      <td>Profiling</td>\n",
       "      <td>0419</td>\n",
       "      <td>1440.714</td>\n",
       "    </tr>\n",
       "    <tr>\n",
       "      <th>1</th>\n",
       "      <td>VIRT</td>\n",
       "      <td>21</td>\n",
       "      <td>Profiling</td>\n",
       "      <td>0419</td>\n",
       "      <td>782.250</td>\n",
       "    </tr>\n",
       "    <tr>\n",
       "      <th>2</th>\n",
       "      <td>VIRT</td>\n",
       "      <td>21</td>\n",
       "      <td>Profiling</td>\n",
       "      <td>0419</td>\n",
       "      <td>726.661</td>\n",
       "    </tr>\n",
       "    <tr>\n",
       "      <th>0</th>\n",
       "      <td>VIRT</td>\n",
       "      <td>21</td>\n",
       "      <td>Profiling</td>\n",
       "      <td>0419</td>\n",
       "      <td>2379.085</td>\n",
       "    </tr>\n",
       "    <tr>\n",
       "      <th>0</th>\n",
       "      <td>PHYS</td>\n",
       "      <td>21</td>\n",
       "      <td>Profiling</td>\n",
       "      <td>0419</td>\n",
       "      <td>1437.171</td>\n",
       "    </tr>\n",
       "  </tbody>\n",
       "</table>\n",
       "</div>"
      ],
      "text/plain": [
       "     kind nprod    gbranch monyr       tot\n",
       "idx                                       \n",
       "4    VIRT    21  Profiling  0419   687.686\n",
       "3    VIRT    21  Profiling  0419   695.299\n",
       "1    PHYS    21  Profiling  0419  1440.714\n",
       "1    VIRT    21  Profiling  0419   782.250\n",
       "2    VIRT    21  Profiling  0419   726.661\n",
       "0    VIRT    21  Profiling  0419  2379.085\n",
       "0    PHYS    21  Profiling  0419  1437.171"
      ]
     },
     "execution_count": 16,
     "metadata": {},
     "output_type": "execute_result"
    }
   ],
   "source": [
    "nprod_tr = 21 if length == 'short' else 83\n",
    "df_mf = df_stats[df_stats.nprod == str(nprod_tr)]\n",
    "df_mf"
   ]
  },
  {
   "cell_type": "markdown",
   "id": "8217a954-354e-4d51-b274-baec423f8669",
   "metadata": {},
   "source": [
    "### Virtual vs Physical, one branch"
   ]
  },
  {
   "cell_type": "code",
   "execution_count": 17,
   "id": "6b549d2c-7db9-4a80-9ebe-fef343930708",
   "metadata": {},
   "outputs": [],
   "source": [
    "gbranch = 'Profiling'"
   ]
  },
  {
   "cell_type": "code",
   "execution_count": 18,
   "id": "53953b0b-b683-41b3-bc27-e823378794d5",
   "metadata": {},
   "outputs": [],
   "source": [
    "df_mf_b = df_mf[df_mf.gbranch==gbranch]"
   ]
  },
  {
   "cell_type": "code",
   "execution_count": 24,
   "id": "a16c621d-6df3-4ba7-a60f-2dffde598cc4",
   "metadata": {},
   "outputs": [],
   "source": [
    "df_mf_b['lbl']   = df_mf_b.apply(lambda x: f\"{x['kind']}{x.name}\", axis=1)\n",
    "col_dct          = {'VIRT': 'darkblue', 'PHYS':'dimgray'}\n",
    "df_mf_b['color'] =  df_mf_b['kind'].apply(lambda x: col_dct[x])"
   ]
  },
  {
   "cell_type": "code",
   "execution_count": 25,
   "id": "8b0a7c0b-71e4-4922-be13-67f001bc7a11",
   "metadata": {},
   "outputs": [
    {
     "data": {
      "image/png": "[encoded data removed]",
      "text/plain": [
       "<Figure size 864x432 with 2 Axes>"
      ]
     },
     "metadata": {
      "needs_background": "light"
     },
     "output_type": "display_data"
    }
   ],
   "source": [
    "df_mf_b.sort_values('lbl', inplace=True)\n",
    "\n",
    "fig, axes = plt.subplots(figsize=(12, 6), ncols=2, sharey=True)\n",
    "# plot all the experiments\n",
    "axe0 = sns.barplot(x='lbl', y='tot', palette=df_mf_b['color'], data=df_mf_b, ax=axes[0])\n",
    "axe0.set_xlabel('')\n",
    "axe0.set_ylabel('Total time (s)')\n",
    "\n",
    "# plot the average\n",
    "axe1 = sns.barplot(x='kind', y='tot', palette=df_mf_b['color'].unique(), ci='sd', data=df_mf_b, ax=axes[1])\n",
    "axe1.set_xlabel(''); axe1.set_ylabel('');"
   ]
  },
  {
   "cell_type": "code",
   "execution_count": 21,
   "id": "536b6d92-3a75-4a52-8b67-d579398d70e8",
   "metadata": {},
   "outputs": [
    {
     "name": "stdout",
     "output_type": "stream",
     "text": [
      "Physical: 1438.94 +/- 2.51 seconds\n",
      "Virtual: 1054.20 +/- 741.57 seconds\n"
     ]
    }
   ],
   "source": [
    "mu, sig = df_mf.groupby('kind').mean(), df_mf.groupby('kind').std()\n",
    "print (f\"Physical: {mu.loc['PHYS'].item():.2f} +/- {sig.loc['PHYS'].item():.2f} seconds\")\n",
    "print (f\"Virtual: {mu.loc['VIRT'].item():.2f} +/- {sig.loc['VIRT'].item():.2f} seconds\")"
   ]
  },
  {
   "cell_type": "markdown",
   "id": "4183d1e3-2e8e-4fa5-851f-ca91062b8edd",
   "metadata": {},
   "source": [
    "### Virtual vs Physical, all branches"
   ]
  },
  {
   "cell_type": "code",
   "execution_count": 28,
   "id": "f1d1c1b7-16a0-4a47-9cce-488512033258",
   "metadata": {},
   "outputs": [
    {
     "data": {
      "image/png": "[encoded data removed]",
      "text/plain": [
       "<Figure size 432x288 with 1 Axes>"
      ]
     },
     "metadata": {
      "needs_background": "light"
     },
     "output_type": "display_data"
    }
   ],
   "source": [
    "ax = sns.barplot(x='kind', y='tot', ci='sd', data=df_mf.sort_values('kind'), palette='colorblind', hue='gbranch')\n",
    "ax.set_xlabel('')\n",
    "ax.set_ylabel('Elapsed Time (seconds)')\n",
    "ax.legend().set_title('')"
   ]
  },
  {
   "cell_type": "code",
   "execution_count": 23,
   "id": "c6105da1-9193-401d-88ae-ff15ffad3a91",
   "metadata": {},
   "outputs": [
    {
     "name": "stdout",
     "output_type": "stream",
     "text": [
      "Physical Profiling: 1438.94 +/- 2.51 seconds\n",
      "Virtual Profiling: 1054.20 +/- 741.57 seconds\n",
      "\n"
     ]
    }
   ],
   "source": [
    "mu, sig = df_mf.groupby('kind gbranch'.split()).mean().reset_index(), df_mf.groupby('kind gbranch'.split()).std().reset_index()\n",
    "for gb in mu['gbranch'].unique():\n",
    "    mu0, sig0 = mu[mu.gbranch == gb].set_index('kind'), sig[sig.gbranch==gb].set_index('kind')\n",
    "    print (f\"Physical {gb}: {mu0.loc['PHYS', 'tot'].item():.2f} +/- {sig0.loc['PHYS', 'tot'].item():.2f} seconds\")\n",
    "    print (f\"Virtual {gb}: {mu0.loc['VIRT', 'tot'].item():.2f} +/- {sig0.loc['VIRT', 'tot'].item():.2f} seconds\")\n",
    "    print ('')"
   ]
  }
 ],
 "metadata": {
  "kernelspec": {
   "display_name": "Python 3 (ipykernel)",
   "language": "python",
   "name": "conda-env-.local-ARIA-py"
  },
  "language_info": {
   "codemirror_mode": {
    "name": "ipython",
    "version": 3
   },
   "file_extension": ".py",
   "mimetype": "text/x-python",
   "name": "python",
   "nbconvert_exporter": "python",
   "pygments_lexer": "ipython3",
   "version": "3.10.4"
  }
 },
 "nbformat": 4,
 "nbformat_minor": 5
}
